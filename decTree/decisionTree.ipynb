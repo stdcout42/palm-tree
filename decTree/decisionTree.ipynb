{
 "cells": [
  {
   "cell_type": "code",
   "execution_count": 211,
   "metadata": {},
   "outputs": [],
   "source": [
    "# Import necessary modules and functions\n",
    "\n",
    "import csv\n",
    "import pandas as pd\n",
    "import seaborn as sns\n",
    "import numpy as np\n",
    "\n",
    "import matplotlib.pyplot as plt\n",
    "%matplotlib inline\n",
    "\n",
    "from matplotlib.pylab import rcParams\n",
    "rcParams['figure.figsize'] = 16, 8\n",
    "\n",
    "from scipy.stats import norm\n",
    "from scipy import stats\n",
    "\n",
    "from sklearn.preprocessing import StandardScaler\n",
    "from sklearn.model_selection import train_test_split\n",
    "from sklearn.linear_model import LinearRegression\n",
    "\n",
    "import warnings\n",
    "warnings.filterwarnings('ignore')"
   ]
  },
  {
   "cell_type": "code",
   "execution_count": 212,
   "metadata": {},
   "outputs": [],
   "source": [
    "KSTrain = pd.read_csv(r'C:\\Users\\umars\\Desktop\\DataScience\\KStrain.csv')"
   ]
  },
  {
   "cell_type": "code",
   "execution_count": 213,
   "metadata": {},
   "outputs": [],
   "source": [
    "KSTest = pd.read_csv(r'C:\\Users\\umars\\Desktop\\DataScience\\KStest.csv', delimiter=';')"
   ]
  },
  {
   "cell_type": "code",
   "execution_count": 214,
   "metadata": {},
   "outputs": [],
   "source": [
    "#dropping the null entries in the training data\n",
    "indexNames = KSTrain[KSTrain['country'].isnull()].index\n",
    "KSTrain.drop(indexNames , inplace=True)"
   ]
  },
  {
   "cell_type": "code",
   "execution_count": 215,
   "metadata": {},
   "outputs": [],
   "source": [
    "from sklearn.preprocessing import LabelEncoder"
   ]
  },
  {
   "cell_type": "code",
   "execution_count": 216,
   "metadata": {},
   "outputs": [],
   "source": [
    "KSTrain['delta_time_created'] = KSTrain.deadline - KSTrain.created_at\n",
    "KSTrain['delta_time_launched'] = KSTrain.deadline - KSTrain.launched_at"
   ]
  },
  {
   "cell_type": "code",
   "execution_count": 217,
   "metadata": {},
   "outputs": [],
   "source": [
    "KSTrain['goal_converted_log'] = np.log(KSTrain.goal * KSTrain.fx_rate)\n",
    "KSTrain['goal_per_day'] = KSTrain['goal_converted_log'] / KSTrain['delta_time_launched']\n",
    "KSTrain.drop(['goal_converted_log'], axis = 'columns', inplace = True)"
   ]
  },
  {
   "cell_type": "code",
   "execution_count": 218,
   "metadata": {},
   "outputs": [],
   "source": [
    "KSTrain.drop(['backers_count','blurb','name','project_url','reward_url'], axis = 'columns',  inplace=True)"
   ]
  },
  {
   "cell_type": "code",
   "execution_count": 219,
   "metadata": {},
   "outputs": [],
   "source": [
    "#create an encoder for each of the string columns\n",
    "#PS: ML algorithms doesn't work with string values\n",
    "le_category = LabelEncoder()\n",
    "le_country = LabelEncoder()\n",
    "le_currency = LabelEncoder()\n",
    "le_location = LabelEncoder()\n",
    "le_subcategory = LabelEncoder()"
   ]
  },
  {
   "cell_type": "raw",
   "metadata": {},
   "source": []
  },
  {
   "cell_type": "code",
   "execution_count": 220,
   "metadata": {},
   "outputs": [],
   "source": [
    "#creates columns with numeric for the following attitudes and includes it in the input dataSet \n",
    "KSTrain['category_n'] = le_category.fit_transform(KSTrain['category'])\n",
    "KSTrain['country_n'] = le_country.fit_transform(KSTrain['country'])\n",
    "KSTrain['currency_n'] = le_currency.fit_transform(KSTrain['currency'])\n",
    "KSTrain['location_n'] = le_location.fit_transform(KSTrain['location'])\n",
    "KSTrain['subcategory_n'] = le_subcategory.fit_transform(KSTrain['subcategory'])"
   ]
  },
  {
   "cell_type": "code",
   "execution_count": 221,
   "metadata": {},
   "outputs": [],
   "source": [
    "#drop the columns with string values\n",
    "#because they are already added as numeric values columns\n",
    "KSTrain.drop(['category','country','currency','location', 'subcategory'], axis='columns', inplace = True)"
   ]
  },
  {
   "cell_type": "code",
   "execution_count": 222,
   "metadata": {},
   "outputs": [],
   "source": [
    "#dropping columns that aren't in the test data\n",
    "KSTrain.drop(['converted_pledged_amount','pledged','usd_pledged'], axis ='columns', inplace = True)"
   ]
  },
  {
   "cell_type": "code",
   "execution_count": 223,
   "metadata": {},
   "outputs": [
    {
     "data": {
      "text/html": [
       "<div>\n",
       "<style scoped>\n",
       "    .dataframe tbody tr th:only-of-type {\n",
       "        vertical-align: middle;\n",
       "    }\n",
       "\n",
       "    .dataframe tbody tr th {\n",
       "        vertical-align: top;\n",
       "    }\n",
       "\n",
       "    .dataframe thead th {\n",
       "        text-align: right;\n",
       "    }\n",
       "</style>\n",
       "<table border=\"1\" class=\"dataframe\">\n",
       "  <thead>\n",
       "    <tr style=\"text-align: right;\">\n",
       "      <th></th>\n",
       "      <th>project_id</th>\n",
       "      <th>created_at</th>\n",
       "      <th>deadline</th>\n",
       "      <th>fx_rate</th>\n",
       "      <th>goal</th>\n",
       "      <th>launched_at</th>\n",
       "      <th>staff_pick</th>\n",
       "      <th>funded</th>\n",
       "      <th>delta_time_created</th>\n",
       "      <th>delta_time_launched</th>\n",
       "      <th>goal_per_day</th>\n",
       "      <th>category_n</th>\n",
       "      <th>country_n</th>\n",
       "      <th>currency_n</th>\n",
       "      <th>location_n</th>\n",
       "      <th>subcategory_n</th>\n",
       "    </tr>\n",
       "  </thead>\n",
       "  <tbody>\n",
       "    <tr>\n",
       "      <th>0</th>\n",
       "      <td>KS_000000</td>\n",
       "      <td>1325980505</td>\n",
       "      <td>1334866560</td>\n",
       "      <td>1.0</td>\n",
       "      <td>2800.0</td>\n",
       "      <td>1332969260</td>\n",
       "      <td>False</td>\n",
       "      <td>True</td>\n",
       "      <td>8886055</td>\n",
       "      <td>1897300</td>\n",
       "      <td>0.000004</td>\n",
       "      <td>0</td>\n",
       "      <td>162</td>\n",
       "      <td>13</td>\n",
       "      <td>6905</td>\n",
       "      <td>86</td>\n",
       "    </tr>\n",
       "  </tbody>\n",
       "</table>\n",
       "</div>"
      ],
      "text/plain": [
       "  project_id  created_at    deadline  fx_rate    goal  launched_at  \\\n",
       "0  KS_000000  1325980505  1334866560      1.0  2800.0   1332969260   \n",
       "\n",
       "   staff_pick  funded  delta_time_created  delta_time_launched  goal_per_day  \\\n",
       "0       False    True             8886055              1897300      0.000004   \n",
       "\n",
       "   category_n  country_n  currency_n  location_n  subcategory_n  \n",
       "0           0        162          13        6905             86  "
      ]
     },
     "execution_count": 223,
     "metadata": {},
     "output_type": "execute_result"
    }
   ],
   "source": [
    "KSTrain.head(1)"
   ]
  },
  {
   "cell_type": "code",
   "execution_count": 224,
   "metadata": {},
   "outputs": [],
   "source": [
    "#forgot this one..\n",
    "#Now the dataframe is good to go\n",
    "KSTrain.drop(['project_id'], axis='columns', inplace = True)"
   ]
  },
  {
   "cell_type": "code",
   "execution_count": 225,
   "metadata": {},
   "outputs": [],
   "source": [
    "x = KSTrain.drop(['funded'], axis = 1)\n",
    "y = KSTrain['funded']"
   ]
  },
  {
   "cell_type": "code",
   "execution_count": 226,
   "metadata": {},
   "outputs": [],
   "source": [
    "from sklearn.model_selection import train_test_split\n",
    "X_train, X_test, y_train, y_test = train_test_split(x, y, test_size=0.20)"
   ]
  },
  {
   "cell_type": "code",
   "execution_count": 227,
   "metadata": {},
   "outputs": [],
   "source": [
    "from sklearn.tree import DecisionTreeClassifier\n",
    "classifier = DecisionTreeClassifier()"
   ]
  },
  {
   "cell_type": "code",
   "execution_count": 228,
   "metadata": {},
   "outputs": [
    {
     "data": {
      "text/plain": [
       "DecisionTreeClassifier()"
      ]
     },
     "execution_count": 228,
     "metadata": {},
     "output_type": "execute_result"
    }
   ],
   "source": [
    "classifier.fit(X_train, y_train)"
   ]
  },
  {
   "cell_type": "code",
   "execution_count": 229,
   "metadata": {},
   "outputs": [
    {
     "data": {
      "text/plain": [
       "0.7504"
      ]
     },
     "execution_count": 229,
     "metadata": {},
     "output_type": "execute_result"
    }
   ],
   "source": [
    "classifier.score(X_test, y_test)"
   ]
  },
  {
   "cell_type": "code",
   "execution_count": 230,
   "metadata": {},
   "outputs": [],
   "source": [
    "array1 = np.array(y_test)\n",
    "array2 = np.array(classifier.predict(X_test))"
   ]
  },
  {
   "cell_type": "code",
   "execution_count": 231,
   "metadata": {},
   "outputs": [
    {
     "data": {
      "text/plain": [
       "(20000,)"
      ]
     },
     "execution_count": 231,
     "metadata": {},
     "output_type": "execute_result"
    }
   ],
   "source": [
    "c = (array1 == array2)\n",
    "c.shape"
   ]
  },
  {
   "cell_type": "code",
   "execution_count": 232,
   "metadata": {},
   "outputs": [
    {
     "name": "stdout",
     "output_type": "stream",
     "text": [
      "4992\n"
     ]
    }
   ],
   "source": [
    "# X is false prediction counter counter\n",
    "counter = 0 \n",
    "for i in c:\n",
    "    if(i == False):\n",
    "        counter = counter+1\n",
    "print (counter)"
   ]
  },
  {
   "cell_type": "code",
   "execution_count": 233,
   "metadata": {},
   "outputs": [],
   "source": [
    "#dropping the null entries in the training data\n",
    "indexNames = KSTest[KSTest['country'].isnull()].index\n",
    "KSTest.drop(indexNames , inplace=True)"
   ]
  },
  {
   "cell_type": "code",
   "execution_count": 234,
   "metadata": {},
   "outputs": [
    {
     "data": {
      "text/html": [
       "<div>\n",
       "<style scoped>\n",
       "    .dataframe tbody tr th:only-of-type {\n",
       "        vertical-align: middle;\n",
       "    }\n",
       "\n",
       "    .dataframe tbody tr th {\n",
       "        vertical-align: top;\n",
       "    }\n",
       "\n",
       "    .dataframe thead th {\n",
       "        text-align: right;\n",
       "    }\n",
       "</style>\n",
       "<table border=\"1\" class=\"dataframe\">\n",
       "  <thead>\n",
       "    <tr style=\"text-align: right;\">\n",
       "      <th></th>\n",
       "      <th>project_id</th>\n",
       "      <th>blurb</th>\n",
       "      <th>category</th>\n",
       "      <th>country</th>\n",
       "      <th>created_at</th>\n",
       "      <th>currency</th>\n",
       "      <th>deadline</th>\n",
       "      <th>fx_rate</th>\n",
       "      <th>goal</th>\n",
       "      <th>launched_at</th>\n",
       "      <th>...</th>\n",
       "      <th>staff_pick</th>\n",
       "      <th>location</th>\n",
       "      <th>subcategory</th>\n",
       "      <th>project_url</th>\n",
       "      <th>reward_url</th>\n",
       "      <th>category_n</th>\n",
       "      <th>country_n</th>\n",
       "      <th>currency_n</th>\n",
       "      <th>location_n</th>\n",
       "      <th>subcategory_n</th>\n",
       "    </tr>\n",
       "  </thead>\n",
       "  <tbody>\n",
       "    <tr>\n",
       "      <th>0</th>\n",
       "      <td>KS_100000</td>\n",
       "      <td>We are looking to bring a Visiting Sculptor fr...</td>\n",
       "      <td>art</td>\n",
       "      <td>US</td>\n",
       "      <td>1330727362</td>\n",
       "      <td>USD</td>\n",
       "      <td>1334959598</td>\n",
       "      <td>1.0</td>\n",
       "      <td>3900.0</td>\n",
       "      <td>1332972398</td>\n",
       "      <td>...</td>\n",
       "      <td>False</td>\n",
       "      <td>Bakersfield, CA</td>\n",
       "      <td>art</td>\n",
       "      <td>https://www.kickstarter.com/projects/153685020...</td>\n",
       "      <td>https://www.kickstarter.com/projects/153685020...</td>\n",
       "      <td>0</td>\n",
       "      <td>162</td>\n",
       "      <td>13</td>\n",
       "      <td>421</td>\n",
       "      <td>10</td>\n",
       "    </tr>\n",
       "    <tr>\n",
       "      <th>1</th>\n",
       "      <td>KS_100001</td>\n",
       "      <td>Surrealistic oil paintings capturing the metam...</td>\n",
       "      <td>art</td>\n",
       "      <td>US</td>\n",
       "      <td>1332598567</td>\n",
       "      <td>USD</td>\n",
       "      <td>1334635140</td>\n",
       "      <td>1.0</td>\n",
       "      <td>750.0</td>\n",
       "      <td>1332975679</td>\n",
       "      <td>...</td>\n",
       "      <td>False</td>\n",
       "      <td>Lowell, MA</td>\n",
       "      <td>painting</td>\n",
       "      <td>https://www.kickstarter.com/projects/203971390...</td>\n",
       "      <td>https://www.kickstarter.com/projects/203971390...</td>\n",
       "      <td>0</td>\n",
       "      <td>162</td>\n",
       "      <td>13</td>\n",
       "      <td>4522</td>\n",
       "      <td>95</td>\n",
       "    </tr>\n",
       "  </tbody>\n",
       "</table>\n",
       "<p>2 rows × 21 columns</p>\n",
       "</div>"
      ],
      "text/plain": [
       "  project_id                                              blurb category  \\\n",
       "0  KS_100000  We are looking to bring a Visiting Sculptor fr...      art   \n",
       "1  KS_100001  Surrealistic oil paintings capturing the metam...      art   \n",
       "\n",
       "  country  created_at currency    deadline  fx_rate    goal  launched_at  ...  \\\n",
       "0      US  1330727362      USD  1334959598      1.0  3900.0   1332972398  ...   \n",
       "1      US  1332598567      USD  1334635140      1.0   750.0   1332975679  ...   \n",
       "\n",
       "  staff_pick         location subcategory  \\\n",
       "0      False  Bakersfield, CA         art   \n",
       "1      False       Lowell, MA    painting   \n",
       "\n",
       "                                         project_url  \\\n",
       "0  https://www.kickstarter.com/projects/153685020...   \n",
       "1  https://www.kickstarter.com/projects/203971390...   \n",
       "\n",
       "                                          reward_url category_n  country_n  \\\n",
       "0  https://www.kickstarter.com/projects/153685020...          0        162   \n",
       "1  https://www.kickstarter.com/projects/203971390...          0        162   \n",
       "\n",
       "   currency_n  location_n  subcategory_n  \n",
       "0          13         421             10  \n",
       "1          13        4522             95  \n",
       "\n",
       "[2 rows x 21 columns]"
      ]
     },
     "execution_count": 234,
     "metadata": {},
     "output_type": "execute_result"
    }
   ],
   "source": [
    "#starting to fix the Test data\n",
    "KSTest['category_n'] = le_category.fit_transform(KSTest['category'])\n",
    "KSTest['country_n'] = le_country.fit_transform(KSTest['country'])\n",
    "KSTest['currency_n'] = le_currency.fit_transform(KSTest['currency'])\n",
    "KSTest['location_n'] = le_location.fit_transform(KSTest['location'])\n",
    "KSTest['subcategory_n'] = le_subcategory.fit_transform(KSTest['subcategory'])\n",
    "KSTest.head(2)"
   ]
  },
  {
   "cell_type": "code",
   "execution_count": 237,
   "metadata": {},
   "outputs": [],
   "source": [
    "KSTest['delta_time_created'] = KSTest.deadline - KSTest.created_at\n",
    "KSTest['delta_time_launched'] = KSTest.deadline - KSTest.launched_at"
   ]
  },
  {
   "cell_type": "code",
   "execution_count": 238,
   "metadata": {},
   "outputs": [],
   "source": [
    "KSTest['goal_converted_log'] = np.log(KSTest.goal * KSTest.fx_rate)\n",
    "KSTest['goal_per_day'] = KSTest['goal_converted_log'] / KSTest['delta_time_launched']\n",
    "KSTest.drop(['goal_converted_log'], axis = 'columns', inplace = True)"
   ]
  },
  {
   "cell_type": "code",
   "execution_count": 240,
   "metadata": {},
   "outputs": [
    {
     "data": {
      "text/html": [
       "<div>\n",
       "<style scoped>\n",
       "    .dataframe tbody tr th:only-of-type {\n",
       "        vertical-align: middle;\n",
       "    }\n",
       "\n",
       "    .dataframe tbody tr th {\n",
       "        vertical-align: top;\n",
       "    }\n",
       "\n",
       "    .dataframe thead th {\n",
       "        text-align: right;\n",
       "    }\n",
       "</style>\n",
       "<table border=\"1\" class=\"dataframe\">\n",
       "  <thead>\n",
       "    <tr style=\"text-align: right;\">\n",
       "      <th></th>\n",
       "      <th>project_id</th>\n",
       "      <th>blurb</th>\n",
       "      <th>category</th>\n",
       "      <th>country</th>\n",
       "      <th>created_at</th>\n",
       "      <th>currency</th>\n",
       "      <th>deadline</th>\n",
       "      <th>fx_rate</th>\n",
       "      <th>goal</th>\n",
       "      <th>launched_at</th>\n",
       "      <th>...</th>\n",
       "      <th>project_url</th>\n",
       "      <th>reward_url</th>\n",
       "      <th>category_n</th>\n",
       "      <th>country_n</th>\n",
       "      <th>currency_n</th>\n",
       "      <th>location_n</th>\n",
       "      <th>subcategory_n</th>\n",
       "      <th>delta_time_created</th>\n",
       "      <th>delta_time_launched</th>\n",
       "      <th>goal_per_day</th>\n",
       "    </tr>\n",
       "  </thead>\n",
       "  <tbody>\n",
       "    <tr>\n",
       "      <th>0</th>\n",
       "      <td>KS_100000</td>\n",
       "      <td>We are looking to bring a Visiting Sculptor fr...</td>\n",
       "      <td>art</td>\n",
       "      <td>US</td>\n",
       "      <td>1330727362</td>\n",
       "      <td>USD</td>\n",
       "      <td>1334959598</td>\n",
       "      <td>1.0</td>\n",
       "      <td>3900.0</td>\n",
       "      <td>1332972398</td>\n",
       "      <td>...</td>\n",
       "      <td>https://www.kickstarter.com/projects/153685020...</td>\n",
       "      <td>https://www.kickstarter.com/projects/153685020...</td>\n",
       "      <td>0</td>\n",
       "      <td>162</td>\n",
       "      <td>13</td>\n",
       "      <td>421</td>\n",
       "      <td>10</td>\n",
       "      <td>4232236</td>\n",
       "      <td>1987200</td>\n",
       "      <td>0.000004</td>\n",
       "    </tr>\n",
       "  </tbody>\n",
       "</table>\n",
       "<p>1 rows × 24 columns</p>\n",
       "</div>"
      ],
      "text/plain": [
       "  project_id                                              blurb category  \\\n",
       "0  KS_100000  We are looking to bring a Visiting Sculptor fr...      art   \n",
       "\n",
       "  country  created_at currency    deadline  fx_rate    goal  launched_at  ...  \\\n",
       "0      US  1330727362      USD  1334959598      1.0  3900.0   1332972398  ...   \n",
       "\n",
       "                                         project_url  \\\n",
       "0  https://www.kickstarter.com/projects/153685020...   \n",
       "\n",
       "                                          reward_url category_n country_n  \\\n",
       "0  https://www.kickstarter.com/projects/153685020...          0       162   \n",
       "\n",
       "  currency_n location_n  subcategory_n  delta_time_created  \\\n",
       "0         13        421             10             4232236   \n",
       "\n",
       "   delta_time_launched  goal_per_day  \n",
       "0              1987200      0.000004  \n",
       "\n",
       "[1 rows x 24 columns]"
      ]
     },
     "execution_count": 240,
     "metadata": {},
     "output_type": "execute_result"
    }
   ],
   "source": [
    "KSTest.head(1)"
   ]
  },
  {
   "cell_type": "code",
   "execution_count": null,
   "metadata": {},
   "outputs": [],
   "source": []
  }
 ],
 "metadata": {
  "kernelspec": {
   "display_name": "Python 3",
   "language": "python",
   "name": "python3"
  },
  "language_info": {
   "codemirror_mode": {
    "name": "ipython",
    "version": 3
   },
   "file_extension": ".py",
   "mimetype": "text/x-python",
   "name": "python",
   "nbconvert_exporter": "python",
   "pygments_lexer": "ipython3",
   "version": "3.8.3"
  }
 },
 "nbformat": 4,
 "nbformat_minor": 4
}
