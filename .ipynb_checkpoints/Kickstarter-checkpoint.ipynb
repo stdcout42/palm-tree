{
 "cells": [
  {
   "cell_type": "code",
   "execution_count": 8,
   "metadata": {},
   "outputs": [],
   "source": [
    "# Import necessary modules and functions\n",
    "# test\n",
    "import pandas as pd\n",
    "import seaborn as sns\n",
    "import numpy as np\n",
    "\n",
    "import matplotlib.pyplot as plt\n",
    "%matplotlib inline\n",
    "\n",
    "from matplotlib.pylab import rcParams\n",
    "rcParams['figure.figsize'] = 16, 8\n",
    "\n",
    "from scipy.stats import norm\n",
    "from scipy import stats\n",
    "\n",
    "from sklearn.preprocessing import StandardScaler\n",
    "from sklearn.model_selection import train_test_split\n",
    "from sklearn.linear_model import LogisticRegression\n",
    "from datetime import datetime\n",
    "\n",
    "import warnings\n",
    "warnings.filterwarnings('ignore')\n",
    "cols = ['project_id', 'blurb', 'category', 'country', 'created_at', 'currency', 'deadline', 'fx_rate', 'goal',\n",
    "'launched_at', 'name', 'staff_pick', 'location', 'subcategory', 'project_url', 'reward_url']"
   ]
  },
  {
   "cell_type": "code",
   "execution_count": 2,
   "metadata": {},
   "outputs": [],
   "source": [
    "df = pd.read_csv('KS_train_data.csv', delimiter=',')\n",
    "#df_test = pd.read_csv('KS_test_data.csv', delimiter=';')"
   ]
  },
  {
   "cell_type": "code",
   "execution_count": 3,
   "metadata": {},
   "outputs": [
    {
     "data": {
      "text/plain": [
       "Index(['project_id', 'backers_count', 'blurb', 'category',\n",
       "       'converted_pledged_amount', 'country', 'created_at', 'currency',\n",
       "       'deadline', 'fx_rate', 'goal', 'launched_at', 'name', 'pledged',\n",
       "       'staff_pick', 'usd_pledged', 'location', 'funded', 'subcategory',\n",
       "       'project_url', 'reward_url'],\n",
       "      dtype='object')"
      ]
     },
     "execution_count": 3,
     "metadata": {},
     "output_type": "execute_result"
    }
   ],
   "source": [
    "df.columns"
   ]
  },
  {
   "cell_type": "code",
   "execution_count": 4,
   "metadata": {},
   "outputs": [
    {
     "name": "stdout",
     "output_type": "stream",
     "text": [
      "2012-03-05 06:41:24\n"
     ]
    }
   ],
   "source": [
    "print(datetime.fromtimestamp(df.iloc[1].created_at))"
   ]
  },
  {
   "cell_type": "code",
   "execution_count": 5,
   "metadata": {},
   "outputs": [],
   "source": [
    "df['delta_time_created'] = df.deadline - df.created_at\n",
    "df['delta_time_launched'] = df.deadline - df.launched_at"
   ]
  },
  {
   "cell_type": "code",
   "execution_count": 6,
   "metadata": {},
   "outputs": [
    {
     "data": {
      "text/plain": [
       "<matplotlib.axes._subplots.AxesSubplot at 0x7f96c4aa0810>"
      ]
     },
     "execution_count": 6,
     "metadata": {},
     "output_type": "execute_result"
    },
    {
     "data": {
      "image/png": "[encoded data removed]",
      "text/plain": [
       "<Figure size 432x288 with 1 Axes>"
      ]
     },
     "metadata": {
      "needs_background": "light"
     },
     "output_type": "display_data"
    }
   ],
   "source": [
    "df['delta_time_launched_days'] = df.delta_time_launched / 86400\n",
    "df['delta_time_created_days'] = df.delta_time_launched / 86400\n",
    "\n",
    "sns.distplot(df.delta_time_launched_days, fit=norm)\n"
   ]
  },
  {
   "cell_type": "code",
   "execution_count": 7,
   "metadata": {
    "scrolled": true
   },
   "outputs": [
    {
     "name": "stdout",
     "output_type": "stream",
     "text": [
      "<class 'pandas.core.frame.DataFrame'>\n",
      "RangeIndex: 100000 entries, 0 to 99999\n",
      "Data columns (total 16 columns):\n",
      "project_id     100000 non-null object\n",
      "blurb          99998 non-null object\n",
      "category       100000 non-null object\n",
      "country        99997 non-null object\n",
      "created_at     100000 non-null int64\n",
      "currency       100000 non-null object\n",
      "deadline       100000 non-null int64\n",
      "fx_rate        100000 non-null float64\n",
      "goal           100000 non-null float64\n",
      "launched_at    100000 non-null int64\n",
      "name           99999 non-null object\n",
      "staff_pick     100000 non-null bool\n",
      "location       100000 non-null object\n",
      "subcategory    100000 non-null object\n",
      "project_url    100000 non-null object\n",
      "reward_url     100000 non-null object\n",
      "dtypes: bool(1), float64(2), int64(3), object(10)\n",
      "memory usage: 11.5+ MB\n"
     ]
    },
    {
     "ename": "NameError",
     "evalue": "name 'df_test' is not defined",
     "output_type": "error",
     "traceback": [
      "\u001b[0;31m---------------------------------------------------------------------------\u001b[0m",
      "\u001b[0;31mNameError\u001b[0m                                 Traceback (most recent call last)",
      "\u001b[0;32m<ipython-input-7-c1771ede875f>\u001b[0m in \u001b[0;36m<module>\u001b[0;34m\u001b[0m\n\u001b[1;32m      1\u001b[0m \u001b[0mdf\u001b[0m\u001b[0;34m[\u001b[0m\u001b[0mcols\u001b[0m\u001b[0;34m]\u001b[0m\u001b[0;34m.\u001b[0m\u001b[0minfo\u001b[0m\u001b[0;34m(\u001b[0m\u001b[0;34m)\u001b[0m\u001b[0;34m\u001b[0m\u001b[0;34m\u001b[0m\u001b[0m\n\u001b[0;32m----> 2\u001b[0;31m \u001b[0mdf_test\u001b[0m\u001b[0;34m.\u001b[0m\u001b[0minfo\u001b[0m\u001b[0;34m(\u001b[0m\u001b[0;34m)\u001b[0m\u001b[0;34m\u001b[0m\u001b[0;34m\u001b[0m\u001b[0m\n\u001b[0m",
      "\u001b[0;31mNameError\u001b[0m: name 'df_test' is not defined"
     ]
    }
   ],
   "source": [
    "df[cols].info()\n",
    "df_test.info()"
   ]
  },
  {
   "cell_type": "code",
   "execution_count": null,
   "metadata": {},
   "outputs": [],
   "source": [
    "total_funded = df.loc[(df.funded==True), 'funded'].value_counts()"
   ]
  },
  {
   "cell_type": "code",
   "execution_count": null,
   "metadata": {},
   "outputs": [],
   "source": [
    "funded_staff_pick = df.loc[(df.funded==True) & (df.staff_pick == True), 'staff_pick'].value_counts() / total_funded\n",
    "funded_staff_pick\n",
    "# means that about 80% of those funded were not staff picked\n"
   ]
  },
  {
   "cell_type": "code",
   "execution_count": null,
   "metadata": {},
   "outputs": [],
   "source": [
    "df['staff_pick'].value_counts().plot(kind='bar')"
   ]
  },
  {
   "cell_type": "code",
   "execution_count": null,
   "metadata": {},
   "outputs": [],
   "source": [
    "df['goal_converted_log'] = np.log(df.goal * df.fx_rate)\n"
   ]
  },
  {
   "cell_type": "code",
   "execution_count": null,
   "metadata": {},
   "outputs": [],
   "source": [
    "funded = df.loc[df.funded == True]\n",
    "not_funded = df.loc[df.funded == False]\n",
    "\n",
    "dplot = sns.distplot(funded.goal_converted_log, kde=False, color='green', bins=150, hist=True, fit=norm, label='Funded')\n",
    "dplot = sns.distplot(not_funded.goal_converted_log, kde=False, color='red', bins=150, hist=True, fit=norm, label='Unfunded')\n",
    "dplot.set(xlim=(3,15))\n",
    "dplot.legend(prop={'size': 12})\n",
    "dplot.set_title('Funded vs unfunded converted log goals')"
   ]
  },
  {
   "cell_type": "code",
   "execution_count": null,
   "metadata": {},
   "outputs": [],
   "source": [
    "sns.catplot(data=df, x ='funded', y='goal_converted_log', kind='point')"
   ]
  },
  {
   "cell_type": "code",
   "execution_count": null,
   "metadata": {},
   "outputs": [],
   "source": [
    "df['goal_per_day'] = df['goal_converted_log'] / df['delta_time_launched']"
   ]
  },
  {
   "cell_type": "code",
   "execution_count": null,
   "metadata": {},
   "outputs": [],
   "source": [
    "funded = df.loc[df.funded == True]\n",
    "not_funded = df.loc[df.funded == False]\n",
    "\n",
    "dplot = sns.distplot(funded.goal_per_day, kde=False, color='green', bins=300, hist=True, fit=norm, label='Funded')\n",
    "dplot = sns.distplot(not_funded.goal_per_day, kde=False, color='red', bins=300, hist=True, fit=norm, label='Unfunded')\n",
    "dplot.set(xlim=(-0.00001,.00001))\n",
    "dplot.legend(prop={'size': 12})\n",
    "dplot.set_title('Funded vs unfunded projects by log $/day needed to reach goal')"
   ]
  },
  {
   "cell_type": "code",
   "execution_count": null,
   "metadata": {},
   "outputs": [],
   "source": [
    "sns.catplot(data=df, x ='funded', y='goal_per_day', kind='point')"
   ]
  },
  {
   "cell_type": "code",
   "execution_count": null,
   "metadata": {},
   "outputs": [],
   "source": [
    "sns.catplot(data=df, x ='funded', y='delta_time_launched_days', kind='point')"
   ]
  },
  {
   "cell_type": "code",
   "execution_count": null,
   "metadata": {},
   "outputs": [],
   "source": [
    "# normalize category data\n",
    "total_in_cat = {}\n",
    "funded_in_cat = {}\n",
    "rate_funded_cat = {}\n",
    "for x in df.category.unique():\n",
    "    total_in_cat[x] = df.loc[(df.category == x, 'project_id')].count()\n",
    "    funded_in_cat[x] = df.loc[(df.category == x) & (df.funded == True), 'project_id'].count() \n",
    "    rate_funded_cat[x] = funded_in_cat[x] / total_in_cat[x]\n"
   ]
  },
  {
   "cell_type": "code",
   "execution_count": null,
   "metadata": {},
   "outputs": [],
   "source": [
    "rate_funded_cat"
   ]
  },
  {
   "cell_type": "code",
   "execution_count": null,
   "metadata": {},
   "outputs": [],
   "source": [
    "sorted_rate_funded_cat = sorted(rate_funded_cat.items(), key=lambda x: x[1], reverse=True)\n",
    "plt.bar([x[0] for x in sorted_rate_funded_cat], [y[1] for y in sorted_rate_funded_cat])\n",
    "#plt.bar(rate_funded_cat.keys(), rate_funded_cat.values())"
   ]
  },
  {
   "cell_type": "code",
   "execution_count": null,
   "metadata": {},
   "outputs": [],
   "source": [
    "df['rate_funded_cat'] = df.apply(lambda row: rate_funded_cat[row.category], axis=1)"
   ]
  },
  {
   "cell_type": "code",
   "execution_count": null,
   "metadata": {},
   "outputs": [],
   "source": [
    "df.loc[df.category == 'art', 'subcategory'].unique()"
   ]
  },
  {
   "cell_type": "code",
   "execution_count": null,
   "metadata": {},
   "outputs": [],
   "source": [
    "total_in_subcat = {}\n",
    "funded_in_subcat = {}\n",
    "rate_funded_subcat = {}\n",
    "for x in df.subcategory.unique():\n",
    "    total_in_subcat[x] = df.loc[(df.subcategory == x, 'project_id')].count()\n",
    "    funded_in_subcat[x] = df.loc[(df.subcategory == x) & (df.funded == True), 'project_id'].count() \n",
    "    rate_funded_subcat[x] = funded_in_subcat[x] / total_in_subcat[x]"
   ]
  },
  {
   "cell_type": "code",
   "execution_count": null,
   "metadata": {},
   "outputs": [],
   "source": [
    "plt.bar(rate_funded_subcat.keys(), rate_funded_subcat.values())"
   ]
  },
  {
   "cell_type": "code",
   "execution_count": null,
   "metadata": {},
   "outputs": [],
   "source": [
    "total_in_subcat\n",
    "#sorted_rate_funded_country"
   ]
  },
  {
   "cell_type": "code",
   "execution_count": null,
   "metadata": {},
   "outputs": [],
   "source": [
    "# needs to be fixed - think it's the null values in country that need to be dropped first\n",
    "#total_in_country = {}\n",
    "#funded_in_country = {}\n",
    "#rate_funded_country = {}\n",
    "#for x in df.country.unique():\n",
    "#     total_in_country[x] = df.loc[(df.country == x, 'project_id')].count()\n",
    "#     funded_in_country[x] = df.loc[(df.country == x) & (df.funded == True), 'project_id'].count() \n",
    "#     rate_funded_country[x] = funded_in_country[x] / total_in_country[x]\n",
    "# sorted_rate_funded_country = sorted(rate_funded_country.items(), key=lambda x: x[1], reverse=True)\n",
    "# plt.bar([x[0] for x in sorted_rate_funded_country], [y[1] for y in sorted_rate_funded_country])"
   ]
  },
  {
   "cell_type": "code",
   "execution_count": null,
   "metadata": {
    "scrolled": true
   },
   "outputs": [],
   "source": [
    "dum_df = pd.get_dummies(df, columns=[\"category\"], prefix=[\"cat_typ\"] )\n"
   ]
  },
  {
   "cell_type": "code",
   "execution_count": null,
   "metadata": {},
   "outputs": [],
   "source": [
    "cols = ['cat_typ_art', 'cat_typ_comics', 'cat_typ_crafts',\n",
    "       'cat_typ_dance', 'cat_typ_design', 'cat_typ_fashion',\n",
    "       'cat_typ_film & video', 'cat_typ_food', 'cat_typ_games',\n",
    "       'cat_typ_journalism', 'cat_typ_music', 'cat_typ_photography',\n",
    "       'cat_typ_publishing', 'cat_typ_technology', 'cat_typ_theater', 'rate_funded_cat', 'delta_time_launched_days', 'goal_converted_log', 'staff_pick']\n",
    "x_train, x_test, y_train, y_test = train_test_split(dum_df[cols], dum_df['funded'], test_size =0.80, random_state=0)\n",
    "from sklearn.linear_model import LogisticRegression\n",
    "lgr = LogisticRegression()\n",
    "lgr.C = 0.01\n",
    "lgr.fit(x_train, y_train)\n",
    "score = lgr.score(x_test, y_test)\n",
    "predictions = lgr.predict(x_test)\n",
    "print(score)"
   ]
  },
  {
   "cell_type": "code",
   "execution_count": null,
   "metadata": {},
   "outputs": [],
   "source": [
    "from sklearn import metrics\n",
    "cm = metrics.confusion_matrix(y_test, predictions)\n",
    "print(cm)\n",
    "plt.figure(figsize=(2,2))\n",
    "sns.heatmap(cm, annot=True, fmt=\".3f\", linewidths=.5, square = True, cmap = 'Blues_r');\n",
    "plt.ylabel('Actual label');\n",
    "plt.xlabel('Predicted label');\n",
    "all_sample_title = 'Accuracy Score: {0}'.format(score)\n",
    "plt.title(all_sample_title, size = 15);"
   ]
  },
  {
   "cell_type": "code",
   "execution_count": null,
   "metadata": {},
   "outputs": [],
   "source": [
    "lgr.get_params()"
   ]
  },
  {
   "cell_type": "code",
   "execution_count": null,
   "metadata": {},
   "outputs": [],
   "source": [
    "lgr.solver='newton-cg'\n",
    "lgr.c = 1\n",
    "lgr.fit(x_train, y_train)\n",
    "score = lgr.score(x_test, y_test)\n",
    "predictions = lgr.predict(x_test)\n",
    "print(score)"
   ]
  },
  {
   "cell_type": "code",
   "execution_count": null,
   "metadata": {},
   "outputs": [],
   "source": [
    "from sklearn import preprocessing\n",
    "lgr.solver='lbfgs'\n",
    "rb_scaler = preprocessing.RobustScaler()\n",
    "x_train_rb = rb_scaler.fit_transform(x_train)\n",
    "rb_scaler.transform(x_test)\n",
    "lgr.fit(x_train_rb, y_train)\n",
    "predictions = lgr.predict(x_test)\n",
    "score = lgr.score(x_test, y_test)\n",
    "print(score)"
   ]
  },
  {
   "cell_type": "code",
   "execution_count": null,
   "metadata": {},
   "outputs": [],
   "source": [
    "dplot = sns.distplot((df['goal_converted_log'])/20, color='red', kde=False, fit=norm)\n",
    "dplot = sns.distplot(df['delta_time_launched_days']/100, color='blue', kde=False, fit=norm)\n",
    "dplot = sns.distplot(df['rate_funded_cat'], color='green', kde=False, fit=norm)\n"
   ]
  },
  {
   "cell_type": "code",
   "execution_count": null,
   "metadata": {},
   "outputs": [],
   "source": [
    "dum_df['goal_scaled'] = df.goal_converted_log / 20\n",
    "dum_df['time_scaled'] = df.delta_time_launched_days / 100"
   ]
  },
  {
   "cell_type": "code",
   "execution_count": null,
   "metadata": {},
   "outputs": [],
   "source": [
    "cols = ['cat_typ_art', 'cat_typ_comics', 'cat_typ_crafts',\n",
    "       'cat_typ_dance', 'cat_typ_design', 'cat_typ_fashion',\n",
    "       'cat_typ_film & video', 'cat_typ_food', 'cat_typ_games',\n",
    "       'cat_typ_journalism', 'cat_typ_music', 'cat_typ_photography',\n",
    "       'cat_typ_publishing', 'cat_typ_technology', 'cat_typ_theater', \n",
    "        'rate_funded_cat', 'delta_time_launched_days', 'goal_converted_log', 'staff_pick']\n",
    "x_train, x_test, y_train, y_test = train_test_split(dum_df[cols], dum_df['funded'], test_size =0.80, random_state=0)\n",
    "from sklearn.linear_model import LogisticRegression\n",
    "lgr = LogisticRegression()\n",
    "lgr.C = 1e3\n",
    "lgr.fit_intercept = False\n",
    "lgr.solver='newton-cg'\n",
    "lgr.fit(x_train, y_train)\n",
    "score = lgr.score(x_test, y_test)\n",
    "predictions = lgr.predict(x_test)\n",
    "print(score)"
   ]
  },
  {
   "cell_type": "code",
   "execution_count": null,
   "metadata": {},
   "outputs": [],
   "source": []
  },
  {
   "cell_type": "code",
   "execution_count": null,
   "metadata": {},
   "outputs": [],
   "source": []
  }
 ],
 "metadata": {
  "kernelspec": {
   "display_name": "Python 3",
   "language": "python",
   "name": "python3"
  },
  "language_info": {
   "codemirror_mode": {
    "name": "ipython",
    "version": 3
   },
   "file_extension": ".py",
   "mimetype": "text/x-python",
   "name": "python",
   "nbconvert_exporter": "python",
   "pygments_lexer": "ipython3",
   "version": "3.7.4"
  }
 },
 "nbformat": 4,
 "nbformat_minor": 4
}
