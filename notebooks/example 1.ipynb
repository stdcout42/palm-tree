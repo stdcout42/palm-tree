{
 "cells": [
  {
   "cell_type": "markdown",
   "metadata": {
    "nbgrader": {
     "grade": false,
     "grade_id": "cell-575272ac8c88383d",
     "locked": true,
     "schema_version": 1,
     "solution": false
    }
   },
   "source": [
    "# Applied Machine Learning\n",
    "## Practical Assignment 1"
   ]
  },
  {
   "cell_type": "code",
   "execution_count": 479,
   "metadata": {
    "pycharm": {
     "is_executing": false
    }
   },
   "outputs": [],
   "source": [
    "Names: ['Alex Hakvoort', 'Sebastiaan van Dijk'] \n",
    "Studentnumbers: ['12488674', '12400319']"
   ]
  },
  {
   "cell_type": "markdown",
   "metadata": {
    "colab_type": "text",
    "id": "-JnevPdzdZo6",
    "nbgrader": {
     "grade": false,
     "grade_id": "cell-e8b3a90e3eadc324",
     "locked": true,
     "schema_version": 1,
     "solution": false
    }
   },
   "source": [
    "### Important Notes:\n",
    "1. Submit through **Canvas** before 11:59pm on Wednesday, April 22, 2020.\n",
    "2. No late homework will be accepted.\n",
    "3. This is a **group-of-two** assignment; hence choose **one** partner to work with.\n",
    "4. The submitted file should be in ipynb format\n",
    "5. The assignment is worth 10 points\n",
    "6. For questions, please use the discussion part of canvas (English only!)\n",
    "\n",
    "### Software:\n",
    "We will be using Python programming language throughout this course. Further we will be using:\n",
    "+ IPython Notebooks (as an environment)\n",
    "+ Numpy\n",
    "+ Pandas\n",
    "+ Scikit-learn\n",
    "\n",
    "\n",
    "### Background:\n",
    "\n",
    "This practical assignment will be covering linear regression and evaluation. For the assignment, please download a [dataset](https://drive.google.com/open?id=1rESPdl7CUfvgkA44YQ42pcOaMOCGN8B6) containing demographic information and crime statistics (in a given year) for some cities in the US.\n",
    "\n",
    "Assume that for certain cities there is missing information about crimes, so we would like to learn how to estimate the number of non-violent crimes based on characteristics of the city (demographics, location etc)."
   ]
  },
  {
   "cell_type": "code",
   "execution_count": 480,
   "metadata": {
    "nbgrader": {
     "grade": false,
     "grade_id": "cell-f55bc95980e83e55",
     "locked": true,
     "schema_version": 1,
     "solution": false
    },
    "pycharm": {
     "is_executing": false
    }
   },
   "outputs": [],
   "source": [
    "import os\n",
    "import sys\n",
    "\n",
    "import numpy as np\n",
    "import pandas as pd\n",
    "import sklearn\n",
    "from nose.tools import assert_count_equal, assert_equal\n",
    "from numpy.testing import *\n",
    "from pandas.testing import assert_frame_equal\n",
    "from sklearn import linear_model\n",
    "from sklearn.linear_model import LinearRegression\n",
    "from sklearn.preprocessing import PolynomialFeatures\n"
   ]
  },
  {
   "cell_type": "markdown",
   "metadata": {
    "colab_type": "text",
    "id": "tYWhz0bxdZo9",
    "nbgrader": {
     "grade": false,
     "grade_id": "cell-8452bfe549fa98ac",
     "locked": true,
     "schema_version": 1,
     "solution": false
    }
   },
   "source": [
    "## Part 1: Loading the data into a Pandas Data Frame [0.5 pts]"
   ]
  },
  {
   "cell_type": "markdown",
   "metadata": {},
   "source": [
    "The descriptions of the columns of the dataset can be found here:\n",
    "\n",
    "**pop**: population\n",
    "\n",
    "**pctUrban**: percentage of people living in areas classified as urban\n",
    "\n",
    "**medIncome**: Median Income\n",
    "\n",
    "**pct12-29**: percentage of population that is 12-21 in age\n",
    "\n",
    "**pct65up**: percentage of population that is 65 and over in age\n",
    "\n",
    "**pctPoverty**: percentage of people under the poverty level\n",
    "\n",
    "**pctAllDivorc**: percentage of population who are divorced\n",
    "\n",
    "**pctUnemploy**: percentage of people 16 and over, in the labor force, and unemployed\n",
    "\n",
    "**perHoush**: mean persons per household\n",
    "\n",
    "**pctHousOccup**: percent of housing occupied\n",
    "\n",
    "**persHomeless**: number of homeless people\n",
    "\n",
    "**persEmergShelt**: number of people in homeless shelters\n",
    "\n",
    "**nonViolPerPop**: total number of non-violent crimes per 100K popuation\n",
    "\n",
    "**State**: the state in which this town/city is located\n",
    "\n",
    "**countyCode**: the code number of the county of the state this town/city is located\n"
   ]
  },
  {
   "cell_type": "markdown",
   "metadata": {},
   "source": [
    "\n",
    "### Question 1a:\n",
    "Load the data into a Pandas DataFrame. At this point, make sure that you only load the following columns: \n",
    "\n",
    "`'pop', 'pctUrban', 'medIncome', 'pct12-29', 'pct65up', 'pctPoverty', 'pctAllDivorc', 'pctUnemploy', 'perHoush', 'pctHousOccup', 'persHomeless', 'persEmergShelt', 'nonViolPerPop'`\n"
   ]
  },
  {
   "cell_type": "code",
   "execution_count": 481,
   "metadata": {
    "pycharm": {
     "is_executing": false
    }
   },
   "outputs": [],
   "source": [
    "csv_path = 'crime_data.csv'\n"
   ]
  },
  {
   "cell_type": "code",
   "execution_count": 482,
   "metadata": {
    "nbgrader": {
     "grade": false,
     "grade_id": "cell-9a5813b911a397d1",
     "locked": false,
     "schema_version": 1,
     "solution": true
    },
    "pycharm": {
     "is_executing": false
    }
   },
   "outputs": [
    {
     "name": "stdout",
     "output_type": "stream",
     "text": [
      "(949, 13)\n"
     ]
    },
    {
     "data": {
      "text/html": [
       "<div>\n",
       "<style scoped>\n",
       "    .dataframe tbody tr th:only-of-type {\n",
       "        vertical-align: middle;\n",
       "    }\n",
       "\n",
       "    .dataframe tbody tr th {\n",
       "        vertical-align: top;\n",
       "    }\n",
       "\n",
       "    .dataframe thead th {\n",
       "        text-align: right;\n",
       "    }\n",
       "</style>\n",
       "<table border=\"1\" class=\"dataframe\">\n",
       "  <thead>\n",
       "    <tr style=\"text-align: right;\">\n",
       "      <th></th>\n",
       "      <th>perHoush</th>\n",
       "      <th>pct12-29</th>\n",
       "      <th>pct65up</th>\n",
       "      <th>pctUrban</th>\n",
       "      <th>pctPoverty</th>\n",
       "      <th>pctUnemploy</th>\n",
       "      <th>pctAllDivorc</th>\n",
       "      <th>pctHousOccup</th>\n",
       "      <th>persEmergShelt</th>\n",
       "      <th>persHomeless</th>\n",
       "      <th>nonViolPerPop</th>\n",
       "      <th>medIncome</th>\n",
       "      <th>pop</th>\n",
       "    </tr>\n",
       "  </thead>\n",
       "  <tbody>\n",
       "    <tr>\n",
       "      <th>0</th>\n",
       "      <td>3.10</td>\n",
       "      <td>21.44</td>\n",
       "      <td>11.33</td>\n",
       "      <td>100.0</td>\n",
       "      <td>1.96</td>\n",
       "      <td>2.70</td>\n",
       "      <td>4.47</td>\n",
       "      <td>98.37</td>\n",
       "      <td>11</td>\n",
       "      <td>0</td>\n",
       "      <td>1394.59</td>\n",
       "      <td>75122.0</td>\n",
       "      <td>11980.0</td>\n",
       "    </tr>\n",
       "    <tr>\n",
       "      <th>1</th>\n",
       "      <td>2.82</td>\n",
       "      <td>21.30</td>\n",
       "      <td>17.18</td>\n",
       "      <td>100.0</td>\n",
       "      <td>3.98</td>\n",
       "      <td>2.43</td>\n",
       "      <td>5.42</td>\n",
       "      <td>97.15</td>\n",
       "      <td>0</td>\n",
       "      <td>0</td>\n",
       "      <td>1955.95</td>\n",
       "      <td>NaN</td>\n",
       "      <td>23123.0</td>\n",
       "    </tr>\n",
       "    <tr>\n",
       "      <th>2</th>\n",
       "      <td>2.76</td>\n",
       "      <td>40.53</td>\n",
       "      <td>12.65</td>\n",
       "      <td>0.0</td>\n",
       "      <td>29.99</td>\n",
       "      <td>9.08</td>\n",
       "      <td>9.73</td>\n",
       "      <td>92.45</td>\n",
       "      <td>2</td>\n",
       "      <td>0</td>\n",
       "      <td>9988.79</td>\n",
       "      <td>NaN</td>\n",
       "      <td>NaN</td>\n",
       "    </tr>\n",
       "    <tr>\n",
       "      <th>3</th>\n",
       "      <td>2.60</td>\n",
       "      <td>27.41</td>\n",
       "      <td>14.42</td>\n",
       "      <td>100.0</td>\n",
       "      <td>4.01</td>\n",
       "      <td>4.85</td>\n",
       "      <td>7.64</td>\n",
       "      <td>95.11</td>\n",
       "      <td>0</td>\n",
       "      <td>0</td>\n",
       "      <td>1890.88</td>\n",
       "      <td>42805.0</td>\n",
       "      <td>28700.0</td>\n",
       "    </tr>\n",
       "    <tr>\n",
       "      <th>4</th>\n",
       "      <td>2.46</td>\n",
       "      <td>35.16</td>\n",
       "      <td>8.58</td>\n",
       "      <td>100.0</td>\n",
       "      <td>13.68</td>\n",
       "      <td>4.18</td>\n",
       "      <td>8.64</td>\n",
       "      <td>95.07</td>\n",
       "      <td>125</td>\n",
       "      <td>15</td>\n",
       "      <td>4747.58</td>\n",
       "      <td>NaN</td>\n",
       "      <td>74111.0</td>\n",
       "    </tr>\n",
       "  </tbody>\n",
       "</table>\n",
       "</div>"
      ],
      "text/plain": [
       "   perHoush  pct12-29  pct65up  pctUrban  pctPoverty  pctUnemploy  \\\n",
       "0      3.10     21.44    11.33     100.0        1.96         2.70   \n",
       "1      2.82     21.30    17.18     100.0        3.98         2.43   \n",
       "2      2.76     40.53    12.65       0.0       29.99         9.08   \n",
       "3      2.60     27.41    14.42     100.0        4.01         4.85   \n",
       "4      2.46     35.16     8.58     100.0       13.68         4.18   \n",
       "\n",
       "   pctAllDivorc  pctHousOccup  persEmergShelt  persHomeless  nonViolPerPop  \\\n",
       "0          4.47         98.37              11             0        1394.59   \n",
       "1          5.42         97.15               0             0        1955.95   \n",
       "2          9.73         92.45               2             0        9988.79   \n",
       "3          7.64         95.11               0             0        1890.88   \n",
       "4          8.64         95.07             125            15        4747.58   \n",
       "\n",
       "   medIncome      pop  \n",
       "0    75122.0  11980.0  \n",
       "1        NaN  23123.0  \n",
       "2        NaN      NaN  \n",
       "3    42805.0  28700.0  \n",
       "4        NaN  74111.0  "
      ]
     },
     "execution_count": 482,
     "metadata": {},
     "output_type": "execute_result"
    }
   ],
   "source": [
    "\n",
    "\n",
    "### BEGIN SOLUTION\n",
    "\n",
    "# Load the dataset\n",
    "crime_data = pd.read_csv('./crime_data.csv',sep=\",\", header = 0, \n",
    "                 usecols=['pop', 'pctUrban', 'medIncome', 'pct12-29', 'pct65up', 'pctPoverty', 'pctAllDivorc', 'pctUnemploy', 'perHoush', 'pctHousOccup', \n",
    "                          'persHomeless', 'persEmergShelt', 'nonViolPerPop'])\n",
    "\n",
    "### END SOLUTION\n",
    "\n",
    "print(crime_data.shape)\n",
    "crime_data.head()"
   ]
  },
  {
   "cell_type": "markdown",
   "metadata": {
    "nbgrader": {
     "grade": false,
     "grade_id": "cell-793ac60698061e82",
     "locked": true,
     "schema_version": 1,
     "solution": false
    }
   },
   "source": [
    "### Question 1b:\n",
    "We want to predict the number of crimes. Identify the features X and the target variable Y, and turn the X and Y DataFrames into Numpy arrays.\n"
   ]
  },
  {
   "cell_type": "code",
   "execution_count": 483,
   "metadata": {
    "colab": {
     "autoexec": {
      "startup": false,
      "wait_interval": 0
     }
    },
    "colab_type": "code",
    "id": "_FzIEG5DdZo-",
    "nbgrader": {
     "grade": false,
     "grade_id": "cell-8eb698d0c3f532fd",
     "locked": false,
     "schema_version": 1,
     "solution": true
    },
    "pycharm": {
     "is_executing": false
    }
   },
   "outputs": [],
   "source": [
    "### BEGIN SOLUTION\n",
    "\n",
    "X = crime_data[['pop', 'pctUrban', 'medIncome', 'pct12-29', 'pct65up', 'pctPoverty', 'pctAllDivorc', 'pctUnemploy', \n",
    "        'perHoush', 'pctHousOccup', 'persHomeless', 'persEmergShelt']].values\n",
    "Y = crime_data['nonViolPerPop'].values.reshape(-1,1)\n",
    "\n",
    "### END SOLUTION\n"
   ]
  },
  {
   "cell_type": "markdown",
   "metadata": {
    "colab_type": "text",
    "id": "P9YvTy9kdZpG",
    "nbgrader": {
     "grade": false,
     "grade_id": "cell-afc0b6593e782894",
     "locked": true,
     "schema_version": 1,
     "solution": false
    }
   },
   "source": [
    "## Part 2: Split the data into a training set and a test set [0.5 pts]\n",
    "### Question 2:\n",
    "Split the data into a training and a test set. Use a  70%-30% split.  \n",
    "Print the number of examples in the training set and the test set."
   ]
  },
  {
   "cell_type": "code",
   "execution_count": 484,
   "metadata": {
    "colab": {
     "autoexec": {
      "startup": false,
      "wait_interval": 0
     }
    },
    "colab_type": "code",
    "id": "e_oiLoaWdZpH",
    "nbgrader": {
     "grade": false,
     "grade_id": "cell-cb09606197bd3f58",
     "locked": false,
     "schema_version": 1,
     "solution": true
    },
    "pycharm": {
     "is_executing": false
    }
   },
   "outputs": [
    {
     "name": "stdout",
     "output_type": "stream",
     "text": [
      "[[7.63710e+04 9.46900e+01 4.07040e+04 2.44800e+01 1.44200e+01 4.92000e+00\n",
      "  7.66000e+00 5.01000e+00 2.79000e+00 7.67300e+01 0.00000e+00 9.60000e+01]\n",
      " [1.82044e+05 1.00000e+02 1.97790e+04 2.96300e+01 1.20100e+01 2.65300e+01\n",
      "  1.75300e+01 1.03900e+01 2.51000e+00 9.04200e+01 5.00000e+00 4.06000e+02]\n",
      " [1.02270e+04 0.00000e+00 2.88920e+04 2.42400e+01 1.35800e+01 7.95000e+00\n",
      "  9.24000e+00 3.60000e+00 2.57000e+00 9.78600e+01 0.00000e+00 0.00000e+00]\n",
      " [3.51840e+04 1.00000e+02         nan 2.00900e+01 1.14900e+01 1.15000e+00\n",
      "  4.16000e+00 2.25000e+00 2.95000e+00 9.74300e+01 0.00000e+00 0.00000e+00]\n",
      " [1.60640e+04 1.00000e+02         nan 2.38700e+01 1.42000e+01 5.71000e+00\n",
      "  1.07300e+01 3.93000e+00 2.52000e+00 9.65300e+01 0.00000e+00 1.90000e+01]]\n",
      "[[2.6542e+04 8.6820e+01 3.2596e+04 2.4090e+01 1.5500e+01 6.7300e+00\n",
      "  8.7500e+00 5.1000e+00 2.6600e+00 9.6250e+01 0.0000e+00 0.0000e+00]\n",
      " [3.0954e+04 1.0000e+02 3.7856e+04 2.5430e+01 1.0450e+01 6.2200e+00\n",
      "  9.7500e+00 4.1700e+00 2.6900e+00 9.4850e+01 0.0000e+00 0.0000e+00]\n",
      " [1.9899e+04 1.0000e+02 3.1250e+04 2.7850e+01 1.0820e+01 9.5800e+00\n",
      "  1.3930e+01 7.4000e+00 2.7900e+00 9.7450e+01 0.0000e+00 0.0000e+00]\n",
      " [2.5067e+04 1.0000e+02 5.8995e+04 2.2820e+01 1.4880e+01 3.0400e+00\n",
      "  4.5600e+00 3.6800e+00 3.2200e+00 9.8530e+01 0.0000e+00 1.9000e+01]\n",
      " [2.1853e+04 1.0000e+02 3.6096e+04 2.7140e+01 1.0190e+01 6.5100e+00\n",
      "  9.8300e+00 4.2800e+00 2.5700e+00 9.6730e+01 0.0000e+00 0.0000e+00]]\n"
     ]
    }
   ],
   "source": [
    "X_train = 'Replace this string with the correct answer'\n",
    "X_test = 'Replace this string with the correct answer'\n",
    "Y_train = 'Replace this string with the correct answer'\n",
    "Y_test = 'Replace this string with the correct answer'\n",
    "\n",
    "### BEGIN SOLUTION\n",
    "\n",
    "from sklearn.model_selection import train_test_split\n",
    "X_train,X_test,Y_train,Y_test = train_test_split(X,Y,test_size=0.3)\n",
    "\n",
    "### END SOLUTION\n",
    "print(X_train[:5])\n",
    "print(X_test[:5])"
   ]
  },
  {
   "cell_type": "markdown",
   "metadata": {
    "colab_type": "text",
    "id": "ZIYFfQN0dZpM",
    "nbgrader": {
     "grade": false,
     "grade_id": "cell-473a187a1ce777d3",
     "locked": true,
     "schema_version": 1,
     "solution": false
    }
   },
   "source": [
    "## Part 3: Linear Regression [2 pts]"
   ]
  },
  {
   "cell_type": "markdown",
   "metadata": {
    "colab_type": "text",
    "id": "prbPvQZodZpN",
    "nbgrader": {
     "grade": false,
     "grade_id": "cell-5db55cc890570964",
     "locked": true,
     "schema_version": 1,
     "solution": false
    }
   },
   "source": [
    "**Missing Data**: Often the data you are considering is incomplete. For example in some city, the number of homeless people might be unknown. In this case, if you look into the datasets you will find the value *NaN*. This is not a real value, hence Linear Regression cannot handle it.\n",
    "\n",
    "The question is how can we handle missing data. There are many ways to do so, some more sophisticated than others. Here we will use a simple approach. This simple approach fills in the missing values, i.e. replaces the *NaN* by the median of the corresponding feature. E.g. if there is a *NaN* value for the population in one city, this *NaN* value will be replaced by the median number of the population in all other cities in the data."
   ]
  },
  {
   "cell_type": "code",
   "execution_count": 485,
   "metadata": {
    "colab": {
     "autoexec": {
      "startup": false,
      "wait_interval": 0
     }
    },
    "colab_type": "code",
    "id": "DZEv4VfCdZpP",
    "nbgrader": {
     "grade": false,
     "grade_id": "cell-0777a154778f1fe3",
     "locked": true,
     "schema_version": 1,
     "solution": false
    },
    "pycharm": {
     "is_executing": false
    }
   },
   "outputs": [],
   "source": [
    "from sklearn.impute import SimpleImputer\n",
    "# Fill in the missing data in the dataset (i.e. replace NaN values) \n",
    "imp_median_X = SimpleImputer(missing_values=np.nan, strategy='median').fit(X_train)\n",
    "X_train = imp_median_X.transform(X_train)\n",
    "X_test = imp_median_X.transform(X_test)\n",
    "\n",
    "imp_median_Y = SimpleImputer(missing_values=np.nan, strategy='median').fit(Y_train)\n",
    "Y_train = imp_median_Y.transform(Y_train)\n",
    "Y_test = imp_median_Y.transform(Y_test)"
   ]
  },
  {
   "cell_type": "markdown",
   "metadata": {
    "nbgrader": {
     "grade": false,
     "grade_id": "cell-5f6424ae3678e3c9",
     "locked": true,
     "schema_version": 1,
     "solution": false
    }
   },
   "source": [
    "### Question 3a:\n",
    "Train a linear regression model"
   ]
  },
  {
   "cell_type": "code",
   "execution_count": 486,
   "metadata": {
    "colab": {
     "autoexec": {
      "startup": false,
      "wait_interval": 0
     }
    },
    "colab_type": "code",
    "id": "BQc0v7GCdZpV",
    "nbgrader": {
     "grade": false,
     "grade_id": "cell-40087f3cfc1918c7",
     "locked": false,
     "schema_version": 1,
     "solution": true
    },
    "pycharm": {
     "is_executing": false
    }
   },
   "outputs": [
    {
     "name": "stdout",
     "output_type": "stream",
     "text": [
      "[[-2.78531897e-03  9.48309549e+00 -2.93683465e-03 -3.57523539e+01\n",
      "   3.07080621e+01  1.45924641e+02  3.04383597e+02 -1.12296606e+02\n",
      "   5.21315760e+02 -5.20501987e+01 -5.49403705e+00  3.51881470e+00]]\n"
     ]
    }
   ],
   "source": [
    "### BEGIN SOLUTION\n",
    "def train_linregmodel(X, Y):\n",
    "    lr = LinearRegression().fit(X, Y)    \n",
    "    return lr\n",
    "### END SOLUTION\n",
    "    \n",
    "\n",
    "lr = train_linregmodel(X_train,Y_train)\n",
    "print(lr.coef_)\n",
    "# print(\"lr.intercept_: {}\".format(lr.intercept_))\n",
    "# print(\"R^2_train = %f\" % lr.score(X_train, Y_train))\n",
    "# print(\"R^2_test = %f\" % lr.score(X_test,Y_test))"
   ]
  },
  {
   "cell_type": "markdown",
   "metadata": {
    "nbgrader": {
     "grade": false,
     "grade_id": "cell-71f736155f84e035",
     "locked": true,
     "schema_version": 1,
     "solution": false
    }
   },
   "source": [
    "### Question 3b:\n",
    "Compare the importance of features based on the parameters $\\theta$ of the model. \n",
    "\n",
    "1. Which are the top-5 most important features for the predicting the number of crimes per capita?   \n",
    "2. Out of those, which correlate positively and which negatively with the number of crimes in a region?"
   ]
  },
  {
   "cell_type": "code",
   "execution_count": 487,
   "metadata": {
    "nbgrader": {
     "grade": false,
     "grade_id": "cell-3b020283aa02adae",
     "locked": false,
     "schema_version": 1,
     "solution": true
    },
    "pycharm": {
     "is_executing": false
    }
   },
   "outputs": [
    {
     "name": "stdout",
     "output_type": "stream",
     "text": [
      "pop                -0.002785\n",
      "pctUrban            9.483095\n",
      "medIncome          -0.002937\n",
      "pct12-29          -35.752354\n",
      "pct65up            30.708062\n",
      "pctPoverty        145.924641\n",
      "pctAllDivorc      304.383597\n",
      "pctUnemploy      -112.296606\n",
      "perHoush          521.315760\n",
      "pctHousOccup      -52.050199\n",
      "persHomeless       -5.494037\n",
      "persEmergShelt      3.518815\n",
      "dtype: float64\n",
      "['perHoush', 'pctAllDivorc', 'pctPoverty', 'pctUnemploy', 'pctHousOccup']\n"
     ]
    }
   ],
   "source": [
    "coefficients = pd.Series(lr.coef_[0], index=['pop', 'pctUrban', 'medIncome', 'pct12-29', 'pct65up', \n",
    "                                                'pctPoverty', 'pctAllDivorc', 'pctUnemploy', 'perHoush',\n",
    "                                                'pctHousOccup', 'persHomeless', 'persEmergShelt'])\n",
    "coefficientsABS = coefficients.abs()\n",
    "print(coefficients)\n",
    "top5 = coefficientsABS.nlargest(n=5).index.tolist()\n",
    "print(top5)\n",
    "\n",
    "### BEGIN SOLUTION\n",
    "\n",
    "\n",
    "### END SOLUTION"
   ]
  },
  {
   "cell_type": "markdown",
   "metadata": {
    "colab_type": "text",
    "id": "e16W9xIcdZpg"
   },
   "source": [
    "<span style=\"color:blue\">**1:'perHoush', 'pctAllDivorc', 'pctPoverty', 'pctUnemploy', 'pctHousOccup' are the most important features for predicting the number of crimes per capita. 2:\n",
    "Out of those, 'pctUnemploy' and 'pctHousOccup' correlate negatively with the number of crimes in a region. The rest of the features correlate positively.**</span>"
   ]
  },
  {
   "cell_type": "markdown",
   "metadata": {
    "nbgrader": {
     "grade": false,
     "grade_id": "cell-02ef93cfecd6a92f",
     "locked": true,
     "schema_version": 1,
     "solution": false
    }
   },
   "source": [
    "### Question 3c:\n",
    "\n",
    "Compute the Mean Absolute Error and Root Mean Squared Error, do this without using the scikit-learn API for these values.\n",
    "\n"
   ]
  },
  {
   "cell_type": "code",
   "execution_count": 488,
   "metadata": {
    "colab": {
     "autoexec": {
      "startup": false,
      "wait_interval": 0
     }
    },
    "colab_type": "code",
    "id": "D1wWlXgcdZpk",
    "nbgrader": {
     "grade": false,
     "grade_id": "cell-d9e0e18c6ac6a823",
     "locked": false,
     "schema_version": 1,
     "solution": true
    },
    "pycharm": {
     "is_executing": false
    }
   },
   "outputs": [],
   "source": [
    "def rmse(y_true, y_pred):\n",
    "    ### BEGIN SOLUTION\n",
    "    MSE = 0\n",
    "    n = 0\n",
    "    for yt, yp in zip(y_true, y_pred):\n",
    "        MSE += (yp[0] - yt[0])**2\n",
    "        n += 1\n",
    "    RMSE = (MSE/n)**0.5\n",
    "    \n",
    "    ### END SOLUTION\n",
    "    return RMSE "
   ]
  },
  {
   "cell_type": "code",
   "execution_count": 489,
   "metadata": {
    "pycharm": {
     "is_executing": false
    }
   },
   "outputs": [],
   "source": [
    "def mae(y_true, y_pred):\n",
    "    ### BEGIN SOLUTION\n",
    "    MAE = 0\n",
    "    n = 0\n",
    "    for yt, yp in zip(y_true, y_pred):\n",
    "        MAE += abs(yp[0] - yt[0])\n",
    "        n += 1\n",
    "    \n",
    "    ### END SOLUTION\n",
    "    return (MAE/n)"
   ]
  },
  {
   "cell_type": "markdown",
   "metadata": {
    "colab_type": "text",
    "id": "h-htxVRadZpp",
    "nbgrader": {
     "grade": false,
     "grade_id": "cell-ff9572a7060b40ee",
     "locked": true,
     "schema_version": 1,
     "solution": false
    }
   },
   "source": [
    "### Question 3d:\n",
    "MAE is an L1 error, while RMSE is an L2 error (L2 errors are based on the squared errors of each prediction in contrast to L1). Consider a scenario where having a relatively small deviation from the true value is ok, but you would really like to avoid making large errors in predictions. Which of those two metrics would you choose to evaluate your models? Explain."
   ]
  },
  {
   "cell_type": "markdown",
   "metadata": {
    "colab_type": "text",
    "id": "zCr2CzPNdZpx"
   },
   "source": [
    "<span style=\"color:blue\">**When predicting the amount of infections in a virus outbreak, you want to minimize the deviation from the truth value in order to take good action. When you think that there are 100 infections and in reality there are 110, this is a small error which should not have a big impact on the actions to be taken. If the propagation rate for the virus is 3 this means that every infected person is probably going to infect 3 more people. If we say that the virus will be transmittable one week after infection. This means that when you want to make a prediction of how the disease will spread after a months time, this mistake of 10 would result in a wrong prediction of 810 people (10 x 3^4). This error will only increase the further the prediction will go after three months (let's say twelve week) it will be (10 x 3^12) = 5314410. \n",
    "So in this case, the error at the start of 10 infections is not a good situation however it’s acceptable/okay. However, it will lead to large errors in predictions that you want to avoid.\n",
    "\n",
    "In order to reduce the large errors in predictions, we want to use RMSE (L2 error) Because : ‘L2 errors are based on the squared errors of each prediction in contrast to L1’. In the case of MAE the impact of the error is linear with the size of the error, while for the RMSE, errors worsen the outcome of the RMSE exponentially, making large errors very impactful.**</span>\n"
   ]
  },
  {
   "cell_type": "markdown",
   "metadata": {
    "colab_type": "text",
    "id": "waQHGkwzdZpy",
    "nbgrader": {
     "grade": false,
     "grade_id": "cell-880a51e909914143",
     "locked": true,
     "schema_version": 1,
     "solution": false
    }
   },
   "source": [
    "## Part 4. Adding features [2 pts]\n",
    "1. Add a number of features by including polynomials and interactions of different degree\n",
    "2. Train and test the different linear regression models over the data\n",
    "3. Test whether increasing the complexity of the model overfits the data"
   ]
  },
  {
   "cell_type": "markdown",
   "metadata": {
    "colab_type": "text",
    "id": "PZCylJThdZqD",
    "nbgrader": {
     "grade": false,
     "grade_id": "cell-4c953b9943fce092",
     "locked": true,
     "schema_version": 1,
     "solution": false
    }
   },
   "source": [
    "### Question 4a\n",
    "Implement a function that constructs additional features by considering the polynomials of the original features along with their interactions. Degree is the degree of the polynomial.  \n",
    "Consider the original dataset that was loaded into Pandas, and then turned into a Numpy array from Part 1."
   ]
  },
  {
   "cell_type": "code",
   "execution_count": 490,
   "metadata": {
    "colab": {
     "autoexec": {
      "startup": false,
      "wait_interval": 0
     }
    },
    "colab_type": "code",
    "id": "UPxirRI_dZqF",
    "nbgrader": {
     "grade": false,
     "grade_id": "cell-0b1c89bb3ea71cd3",
     "locked": false,
     "schema_version": 1,
     "solution": true
    },
    "pycharm": {
     "is_executing": false
    }
   },
   "outputs": [],
   "source": [
    "def polynomial(X, degree):\n",
    "    \n",
    "    ### BEGIN SOLUTION\n",
    "    poly = PolynomialFeatures(degree=degree, include_bias=False)\n",
    "    X_poly = poly.fit_transform(X)\n",
    "    ### END SOLUTION\n",
    "    return X_poly"
   ]
  },
  {
   "cell_type": "markdown",
   "metadata": {
    "colab_type": "text",
    "id": "lSmT1E-TdZqV",
    "nbgrader": {
     "grade": false,
     "grade_id": "cell-9962d8a34afca4c5",
     "locked": true,
     "schema_version": 1,
     "solution": false
    }
   },
   "source": [
    "### Question 4b:\n",
    "Write your conclusions regarding the performance of the models of increasing complexity"
   ]
  },
  {
   "cell_type": "code",
   "execution_count": 491,
   "metadata": {
    "colab": {
     "autoexec": {
      "startup": false,
      "wait_interval": 0
     }
    },
    "colab_type": "code",
    "id": "OJ8eBIbOdZqM",
    "nbgrader": {
     "grade": true,
     "grade_id": "cell-dc744bd0d05ecf76",
     "locked": false,
     "points": 2,
     "schema_version": 1,
     "solution": true
    },
    "pycharm": {
     "is_executing": false
    }
   },
   "outputs": [
    {
     "name": "stdout",
     "output_type": "stream",
     "text": [
      "For degree 1, the RMSE for the training set is 1798.4014153708256 and for the test set is 1825.609107683881\n",
      "For degree 1, the R^2 score for the training set is 0.438453051958404 and for the test set is 0.3279896140843841\n",
      "For degree 2, the RMSE for the training set is 1561.0069015556755 and for the test set is 10322.795046215322\n",
      "For degree 2, the R^2 score for the training set is 0.5769200481839324 and for the test set is -20.48597208603745\n",
      "For degree 3, the RMSE for the training set is 1656.246134447975 and for the test set is 879742.9111023739\n",
      "For degree 3, the R^2 score for the training set is 0.5237197694212452 and for the test set is -156051.93807680055\n",
      "For degree 4, the RMSE for the training set is 2003.95192399816 and for the test set is 10148520.466712318\n",
      "For degree 4, the R^2 score for the training set is 0.30275180840990734 and for the test set is -20766621.17685422\n",
      "For degree 5, the RMSE for the training set is 2615.429622583414 and for the test set is 23170511.08822697\n",
      "For degree 5, the R^2 score for the training set is -0.18767845002853867 and for the test set is -108250926.11975318\n"
     ]
    },
    {
     "data": {
      "text/plain": [
       "<matplotlib.legend.Legend at 0x1a25ac41d0>"
      ]
     },
     "execution_count": 491,
     "metadata": {},
     "output_type": "execute_result"
    },
    {
     "data": {
      "image/png": "[encoded data removed]",
      "text/plain": [
       "<Figure size 432x288 with 1 Axes>"
      ]
     },
     "metadata": {
      "needs_background": "light"
     },
     "output_type": "display_data"
    }
   ],
   "source": [
    "from sklearn.preprocessing import RobustScaler\n",
    "import matplotlib.pyplot as plt\n",
    "from sklearn.metrics import mean_squared_error, mean_absolute_error\n",
    "from sklearn.metrics import r2_score\n",
    "\n",
    "RMSE_scores_train = []\n",
    "RMSE_scores_test = []\n",
    "# Generate polynomial dataset (both training and test) of degrees 1, 2, 3, 4, 5\n",
    "for power in [1, 2, 3, 4, 5]:\n",
    "    X_train_poly = polynomial(X_train, power)\n",
    "    X_test_poly = polynomial(X_test, power)\n",
    "# Scale all features using the RobustScaler\n",
    "    scaler = RobustScaler().fit(X_train_poly)\n",
    "    X_train_scaled = scaler.transform(X_train_poly)\n",
    "    X_test_scaled = scaler.transform(X_test_poly)\n",
    "\n",
    "    lr = LinearRegression().fit(X_train_scaled, Y_train)\n",
    "    prediction_train = lr.predict(X_train_scaled)\n",
    "    prediction_test = lr.predict(X_test_scaled)\n",
    "# Compute and print RMSE using your code above on the training set and on the test set\n",
    "    RMSE_train = rmse(Y_train, prediction_train)\n",
    "    RMSE_test = rmse(Y_test, prediction_test)\n",
    "    print(\"For degree {}, the RMSE for the training set is {} and for the test set is {}\".format(power, RMSE_train, RMSE_test))\n",
    "# Compute and print R^2 on the training set and on the test set\n",
    "    r2_train = r2_score(Y_train, prediction_train)\n",
    "    r2_test = r2_score(Y_test, prediction_test)\n",
    "    print(\"For degree {}, the R^2 score for the training set is {} and for the test set is {}\".format(power, r2_train, r2_test))\n",
    "# Generate a plot with the x-axis representing the complexity of the model (i.e. the degree of the polynomial features)\n",
    "# Make the degree range from 1 to 5. The y-axis should represent the RMSE. Plot a line for degree = 1, 2, 3, 4, and 5\n",
    "# for the training error and the test error.\n",
    "    RMSE_scores_train.append(RMSE_train)\n",
    "    RMSE_scores_test.append(RMSE_test)\n",
    "# print(\"Train: {} \\nTest: {}\".format(RMSE_scores_train, RMSE_scores_test))\n",
    "plt.plot(RMSE_scores_train)\n",
    "plt.plot(RMSE_scores_test)\n",
    "plt.xlabel('Degree')\n",
    "plt.ylabel('RMSE')\n",
    "plt.xticks([0, 1, 2, 3, 4], [1, 2, 3, 4, 5])\n",
    "    \n",
    "plt.legend(['RMSE train', 'RMSE test'], loc = 'upper left')"
   ]
  },
  {
   "cell_type": "markdown",
   "metadata": {
    "colab_type": "text",
    "id": "VLG8k-ajdZqW"
   },
   "source": [
    "<span style=\"color:blue\">**Yes, the models with increasing complexity overfit the data. The RMSE for the training set remains quite constant while the RMSE for the test data grows exponentially with the degree, indicating that the models with a higher degree overfit the training data. Therefore, when increasing the complexity, at a certain point it will hinder the performance of the model since it will start overfitting the data.**</span>"
   ]
  },
  {
   "cell_type": "markdown",
   "metadata": {
    "colab_type": "text",
    "id": "3hdgIABvdZqY",
    "nbgrader": {
     "grade": false,
     "grade_id": "cell-6c5dc39115a9346c",
     "locked": true,
     "schema_version": 1,
     "solution": false
    }
   },
   "source": [
    "## Part 5. Regularization [2pts]\n",
    "\n",
    "1. Feature selection using regularization\n",
    "2. Training/validation/test split\n",
    "3. Find the optimal parameter for the regularizer\n",
    "4. Compare linear regression with and without regularization"
   ]
  },
  {
   "cell_type": "markdown",
   "metadata": {
    "nbgrader": {
     "grade": false,
     "grade_id": "cell-6a938bf9f7024e22",
     "locked": true,
     "schema_version": 1,
     "solution": false
    }
   },
   "source": [
    "### Question 5a:\n",
    "Create a function that applies regularization, choose the \\lambda parameter (i.e. the alpha in python) equal to 500."
   ]
  },
  {
   "cell_type": "code",
   "execution_count": 492,
   "metadata": {
    "nbgrader": {
     "grade": false,
     "grade_id": "cell-cb499aece0330317",
     "locked": false,
     "schema_version": 1,
     "solution": true
    },
    "pycharm": {
     "is_executing": false
    }
   },
   "outputs": [],
   "source": [
    "from sklearn.linear_model import Lasso\n",
    "\n",
    "def regularization(X, Y, lambd = 500):\n",
    "    \n",
    "    ### BEGIN SOLUTION\n",
    "    model = Lasso(lambd).fit(X, Y)\n",
    "    ### END SOLUTION\n",
    "    \n",
    "    return model\n"
   ]
  },
  {
   "cell_type": "markdown",
   "metadata": {
    "colab_type": "text",
    "id": "kczALy-8dZqZ",
    "nbgrader": {
     "grade": false,
     "grade_id": "cell-3f69bcc72259b460",
     "locked": true,
     "schema_version": 1,
     "solution": false
    }
   },
   "source": [
    "### Question 5b:\n",
    "Compare the performance of the linear regression with and without regularization. Use the 2 degree polynomial features constructed at question 4b."
   ]
  },
  {
   "cell_type": "code",
   "execution_count": 493,
   "metadata": {
    "colab": {
     "autoexec": {
      "startup": false,
      "wait_interval": 0
     }
    },
    "colab_type": "code",
    "id": "sH5XWcISdZqZ",
    "nbgrader": {
     "grade": true,
     "grade_id": "cell-039145c67e2bd279",
     "locked": false,
     "points": 0.5,
     "schema_version": 1,
     "solution": true
    },
    "pycharm": {
     "is_executing": false
    }
   },
   "outputs": [
    {
     "name": "stderr",
     "output_type": "stream",
     "text": [
      "/Applications/anaconda3/lib/python3.7/site-packages/sklearn/linear_model/coordinate_descent.py:475: ConvergenceWarning: Objective did not converge. You might want to increase the number of iterations. Duality gap: 932398179.4749913, tolerance: 382432.92882740335\n",
      "  positive)\n"
     ]
    }
   ],
   "source": [
    "# Apply the function from 5a for feature selection\n",
    "\n",
    "### BEGIN SOLUTION\n",
    "# add polynomial features\n",
    "X_train_poly_2 = polynomial(X_train, 2)\n",
    "X_test_poly_2 = polynomial(X_test, 2)\n",
    "# train regularization model\n",
    "reg = regularization(X_train_poly_2, Y_train)\n",
    "Y_train_predicted_2 = reg.predict(X_train_poly_2)\n",
    "Y_test_predicted_2 = reg.predict(X_test_poly_2)\n",
    "### END SOLUTION"
   ]
  },
  {
   "cell_type": "code",
   "execution_count": 494,
   "metadata": {
    "pycharm": {
     "is_executing": false
    }
   },
   "outputs": [
    {
     "name": "stdout",
     "output_type": "stream",
     "text": [
      "RMSE training with lasso regularization: 1649.0098155352405\n",
      "RMSE test with lasso regularization: 2058.346387606444\n",
      "RMSE training without lasso regularization: 1561.0209386553909\n",
      "RMSE test without lasso regularization: 10335.3158214917\n"
     ]
    }
   ],
   "source": [
    "# Compare the training and test RMSE of the linear regression with and without regularization\n",
    "\n",
    "### BEGIN SOLUTION\n",
    "lr = LinearRegression().fit(X_train_poly_2, Y_train)\n",
    "prediction_train = lr.predict(X_train_poly_2)\n",
    "prediction_test = lr.predict(X_test_poly_2)\n",
    "RMSE_train_lr = mean_squared_error(Y_train, prediction_train)**0.5\n",
    "RMSE_test_lr = mean_squared_error(Y_test, prediction_test)**0.5\n",
    "RMSE_train_lasso = mean_squared_error(Y_train, Y_train_predicted_2)**0.5\n",
    "RMSE_test_lasso = mean_squared_error(Y_test, Y_test_predicted_2)**0.5\n",
    "print(\"RMSE training with lasso regularization: {}\\nRMSE test with lasso regularization: {}\\nRMSE training without lasso regularization: {}\\nRMSE test without lasso regularization: {}\"\n",
    "     .format(RMSE_train_lasso, RMSE_test_lasso, RMSE_train_lr, RMSE_test_lr))\n",
    "\n",
    "\n",
    "### END SOLUTION"
   ]
  },
  {
   "cell_type": "code",
   "execution_count": 495,
   "metadata": {
    "pycharm": {
     "is_executing": false
    }
   },
   "outputs": [
    {
     "name": "stdout",
     "output_type": "stream",
     "text": [
      "65 features selected out of 90\n"
     ]
    }
   ],
   "source": [
    "# Identify how many features were selected (i.e. had a non-zero parameter \\theta) by the regularized model\n",
    "\n",
    "### BEGIN SOLUTION\n",
    "\n",
    "# plt.figure(figsize=(10, 10))\n",
    "count = 0\n",
    "for i in reg.coef_:\n",
    "    if i != 0:\n",
    "        count+=1\n",
    "print(\"{} features selected out of {}\".format(count, len(reg.coef_)))\n",
    "\n",
    "### END SOLUTION"
   ]
  },
  {
   "cell_type": "markdown",
   "metadata": {
    "colab_type": "text",
    "id": "nLBWaLc9dZqg"
   },
   "source": [
    "<span style=\"color:blue\">**Out of the 90 features, 63 features were selected. **</span>"
   ]
  },
  {
   "cell_type": "markdown",
   "metadata": {
    "nbgrader": {
     "grade": false,
     "grade_id": "cell-cff313fb66d82eac",
     "locked": true,
     "schema_version": 1,
     "solution": false
    }
   },
   "source": [
    "### Question 5c:\n",
    "Compare the coefficients (i.e. the parameters \\theta) of the linear regression models with and without regularization.\n",
    "Plot them in a graph, where the x-axis is the index of a coefficient while the y-axis the magnitute of it. \n",
    "What do you observe?"
   ]
  },
  {
   "cell_type": "code",
   "execution_count": 496,
   "metadata": {
    "colab": {
     "autoexec": {
      "startup": false,
      "wait_interval": 0
     }
    },
    "colab_type": "code",
    "id": "k2ovwz0PdZql",
    "nbgrader": {
     "grade": true,
     "grade_id": "cell-2e1e400fa5995203",
     "locked": false,
     "points": 1,
     "schema_version": 1,
     "solution": true
    },
    "pycharm": {
     "is_executing": false
    }
   },
   "outputs": [
    {
     "data": {
      "text/plain": [
       "<matplotlib.legend.Legend at 0x1a217b9f50>"
      ]
     },
     "execution_count": 496,
     "metadata": {},
     "output_type": "execute_result"
    },
    {
     "data": {
      "image/png": "[encoded data removed]",
      "text/plain": [
       "<Figure size 432x288 with 1 Axes>"
      ]
     },
     "metadata": {
      "needs_background": "light"
     },
     "output_type": "display_data"
    }
   ],
   "source": [
    "# Plot the graph here\n",
    "\n",
    "### BEGIN SOLUTION\n",
    "coef_no_reg = lr.coef_[0]\n",
    "coef_with_reg = reg.coef_\n",
    "# plt.plot(coef_no_reg, coef_with_reg)\n",
    "plt.plot(coef_with_reg)\n",
    "plt.plot(coef_no_reg)\n",
    "\n",
    "plt.axis(xmin = 0, xmax = len(coef_no_reg))\n",
    "plt.legend(['With lasso regularization', 'Without regularization'], loc = 'upper left')\n",
    "### END SOLUTION"
   ]
  },
  {
   "cell_type": "markdown",
   "metadata": {
    "colab_type": "text",
    "id": "IMJ9JOTNdZq0",
    "nbgrader": {
     "grade": false,
     "grade_id": "cell-61098ba6c5ba9428",
     "locked": true,
     "schema_version": 1,
     "solution": false
    }
   },
   "source": [
    "<span style=\"color:blue\">**The coefficients of the features have been minimized, leaving an almost straight line compared to the magnitude of coefficients without regularization. **</span>"
   ]
  },
  {
   "cell_type": "markdown",
   "metadata": {
    "colab_type": "text",
    "id": "Hfx8ACDndZq1",
    "nbgrader": {
     "grade": false,
     "grade_id": "cell-da1188e07c24903f",
     "locked": true,
     "schema_version": 1,
     "solution": false
    }
   },
   "source": [
    "## Part 6: Categorical features [3 pts]\n",
    "\n",
    "Load again the entire dataset, without selecting specific features as you did in Part 1. The dataset now contains both *numerical* and *categorical* features."
   ]
  },
  {
   "cell_type": "code",
   "execution_count": 537,
   "metadata": {
    "pycharm": {
     "is_executing": false
    }
   },
   "outputs": [],
   "source": [
    "df = pd.read_csv(csv_path, sep=',', header = 0,\n",
    "                )\n",
    "\n",
    "y = df['nonViolPerPop'].values.reshape(-1,1)\n",
    "df.dropna(subset=['nonViolPerPop'],axis=0, inplace=True)\n"
   ]
  },
  {
   "cell_type": "markdown",
   "metadata": {},
   "source": [
    "### Question 6a:\n",
    "Look at the description of the features. Which of the features are or should be treated as categorical? Add the column names in a list."
   ]
  },
  {
   "cell_type": "code",
   "execution_count": 538,
   "metadata": {
    "pycharm": {
     "is_executing": false
    }
   },
   "outputs": [],
   "source": [
    "### BEGIN SOLUTION\n",
    "\n",
    "categorical_features = ['State', 'countyCode']\n",
    "\n",
    "### END SOLUTION"
   ]
  },
  {
   "cell_type": "markdown",
   "metadata": {},
   "source": [
    "### Question 6b [Research]:\n",
    "Impute values using the median, on the entire dataset (regardless of train/test split). \n",
    "Does it make sense to impute values for all missing features? If yes, do so. Otherwise explain and drop rows containing missing values you can't replace.\n",
    "\n",
    "Hint: If you want to impute missing values only for some specific columns, you can refer to this link: https://stackoverflow.com/questions/38584184/imputer-on-some-dataframe-columns-in-python"
   ]
  },
  {
   "cell_type": "code",
   "execution_count": 539,
   "metadata": {
    "pycharm": {
     "is_executing": false
    }
   },
   "outputs": [
    {
     "data": {
      "text/plain": [
       "array([[3.10000e+00, 2.14400e+01, 1.13300e+01, ..., 1.39459e+03,\n",
       "        7.51220e+04, 1.19800e+04],\n",
       "       [2.82000e+00, 2.13000e+01, 1.71800e+01, ..., 1.95595e+03,\n",
       "        3.68595e+04, 2.31230e+04],\n",
       "       [2.76000e+00, 4.05300e+01, 1.26500e+01, ..., 9.98879e+03,\n",
       "        3.68595e+04, 2.06590e+04],\n",
       "       ...,\n",
       "       [2.54000e+00, 2.77200e+01, 1.33900e+01, ..., 5.14494e+03,\n",
       "        3.57230e+04, 2.06590e+04],\n",
       "       [2.56000e+00, 2.40300e+01, 1.29900e+01, ..., 3.81793e+03,\n",
       "        2.24070e+04, 1.31310e+04],\n",
       "       [2.57000e+00, 2.49000e+01, 1.53300e+01, ..., 1.99298e+03,\n",
       "        3.76640e+04, 1.05670e+04]])"
      ]
     },
     "metadata": {},
     "output_type": "display_data"
    }
   ],
   "source": [
    "### BEGIN SOLUTION\n",
    "df_categorical = df[categorical_features]\n",
    "df.drop(categorical_features, axis=1, inplace=True)\n",
    "imp = SimpleImputer(missing_values=np.nan, strategy=\"median\" )\n",
    "df=imp.fit_transform(df)\n",
    "display(df)\n",
    "X = df.copy()\n",
    "### END SOLUTION"
   ]
  },
  {
   "cell_type": "markdown",
   "metadata": {},
   "source": [
    "<span style=\"color:blue\">**No, it does not make sense to impute values for categorical features since there is no mean or median 'State' or 'countyCode' and this would not be helpful in a case like this. **</span>"
   ]
  },
  {
   "cell_type": "markdown",
   "metadata": {},
   "source": [
    "### Question 6c:\n",
    "Have another look at the data, specifically the two new added features. Do you consider them useful/meaningful predictors for a (linear) Logistic Regression model? Explain.\n",
    "\n",
    "Can you think of doing something that can help a linear model take advantage of some additional information? If so, implement your solution.\n"
   ]
  },
  {
   "cell_type": "code",
   "execution_count": 540,
   "metadata": {
    "pycharm": {
     "is_executing": false
    }
   },
   "outputs": [],
   "source": [
    "### BEGIN SOLUTION\n",
    "df_categorical['countyCode'] = df_categorical['State'] + (df_categorical['countyCode'].apply(str))\n",
    "\n",
    "### END SOLUTION"
   ]
  },
  {
   "cell_type": "markdown",
   "metadata": {},
   "source": [
    "<span style=\"color:blue\">**Yes, the states indicate a region within the country, which could affect the crime rate. This also counts for the county codes, which are a specific region within a state. For this reason we decided to make the county codes unique for a region by altering the column to [<State>+<countyCode>]. This way we can use the specific regions to train our model and make predictions for other data points within that particular region. If for example in a certain city the crime rate is high, then another place (close that city) with the same state +  county code combination is also likely to have a higher crime rate. This could be predicted through the state + county code identifier, which we created. \n",
    "**</span>"
   ]
  },
  {
   "cell_type": "markdown",
   "metadata": {},
   "source": [
    "### Question 6d:\n",
    "One hot encode the categorical features, then merge them back into the original dataframe/array."
   ]
  },
  {
   "cell_type": "code",
   "execution_count": 541,
   "metadata": {
    "pycharm": {
     "is_executing": false
    }
   },
   "outputs": [
    {
     "data": {
      "text/plain": [
       "array([[ 3.1 , 21.44, 11.33, ...,  0.  ,  0.  ,  0.  ],\n",
       "       [ 2.82, 21.3 , 17.18, ...,  0.  ,  0.  ,  0.  ],\n",
       "       [ 2.76, 40.53, 12.65, ...,  0.  ,  0.  ,  0.  ],\n",
       "       ...,\n",
       "       [ 2.54, 27.72, 13.39, ...,  0.  ,  0.  ,  0.  ],\n",
       "       [ 2.56, 24.03, 12.99, ...,  0.  ,  0.  ,  0.  ],\n",
       "       [ 2.57, 24.9 , 15.33, ...,  0.  ,  0.  ,  0.  ]])"
      ]
     },
     "metadata": {},
     "output_type": "display_data"
    }
   ],
   "source": [
    "### BEGIN SOLUTION\n",
    "from sklearn.preprocessing import OneHotEncoder\n",
    "df_categorical['countyCode'] = df_categorical['countyCode']\n",
    "df_categorical = pd.get_dummies(df_categorical).values\n",
    "df = np.concatenate((df,df_categorical),axis=1)\n",
    "display(df)\n",
    "\n",
    "### END SOLUTION"
   ]
  },
  {
   "cell_type": "markdown",
   "metadata": {},
   "source": [
    "### Question 6e:\n",
    "Follow the instructions in the cell below. Due to randomization of the train_test_split, results might change. Make sure to **run the same code a few times** and understand what is happening."
   ]
  },
  {
   "cell_type": "code",
   "execution_count": 530,
   "metadata": {
    "pycharm": {
     "is_executing": false
    }
   },
   "outputs": [
    {
     "name": "stdout",
     "output_type": "stream",
     "text": [
      "Normalized: \n",
      "RMSE train: 707.4057934771213 \n",
      "RMSE val: 612.7511669481628 \n",
      "RMSE test: 765.3810616458713 \n",
      "\n",
      "Ridge regression with alpha = 0.0: \n",
      "RMSE train: 655.054041321184 \n",
      "RMSE val: 916.7243752001393 \n",
      "\n",
      "Ridge regression with alpha = 1e-15: \n",
      "RMSE train: 655.0540413211846 \n",
      "RMSE val: 916.7243652891342 \n",
      "\n",
      "Ridge regression with alpha = 1e-08: \n",
      "RMSE train: 656.1989321581855 \n",
      "RMSE val: 899.2235570133371 \n",
      "\n",
      "Ridge regression with alpha = 1e-05: \n",
      "RMSE train: 764.0806523082731 \n",
      "RMSE val: 865.641090709229 \n",
      "\n",
      "Ridge regression with alpha = 0.0001: \n",
      "RMSE train: 909.6505991533027 \n",
      "RMSE val: 1140.899775927763 \n",
      "\n",
      "Ridge regression with alpha = 0.001: \n",
      "RMSE train: 981.4875809453073 \n",
      "RMSE val: 1300.6366949444475 \n",
      "\n",
      "Ridge regression with alpha = 0.01: \n",
      "RMSE train: 994.8110747743674 \n",
      "RMSE val: 1354.26101715777 \n",
      "\n",
      "Ridge regression with alpha = 0.05: \n",
      "RMSE train: 1020.2806545964797 \n",
      "RMSE val: 1473.835035198614 \n",
      "\n",
      "Ridge regression with alpha = 0.1: \n",
      "RMSE train: 1071.8997433549168 \n",
      "RMSE val: 1602.10655525658 \n",
      "\n",
      "Ridge regression with alpha = 1.0: \n",
      "RMSE train: 1627.2393793787444 \n",
      "RMSE val: 2376.834220084091 \n",
      "\n",
      "Ridge regression with alpha = 10.0: \n",
      "RMSE train: 2050.924214119713 \n",
      "RMSE val: 2827.180511798074 \n",
      "\n",
      "The RMSE on the test set is the best for alpha = 1e-8 \n",
      "\n",
      "RMSE train with regularization: 656.1989321581855 vs. without regularization: 707.4057934771213 \n",
      "RMSE val with regularization: 899.2235570133371 vs. without regularization: 612.7511669481628 \n",
      "RMSE test with regularization: 800.5057391688222 vs. without regularization: 765.3810616458713 \n",
      "\n"
     ]
    }
   ],
   "source": [
    "from sklearn.preprocessing import StandardScaler, Normalizer\n",
    "from sklearn.linear_model import Ridge\n",
    "\n",
    "# Split the dataset into training, validation and test sets:\n",
    "# Training set: 10% of the entire set\n",
    "# Make the remaining 10% a validation dataset and the rest a test set.\n",
    "\n",
    "### BEGIN SOLUTION ###\n",
    "X_train, X_test, y_train, y_test = train_test_split(X, y, test_size=0.9)\n",
    "\n",
    "X_test, X_val, y_test, y_val = train_test_split(X_test, y_test, test_size=0.1)\n",
    "\n",
    "### END SOLUTION ###\n",
    "\n",
    "\n",
    "# Normalize all features based on the training and validation set combined.\n",
    "\n",
    "### BEGIN SOLUTION ###\n",
    "transformer = Normalizer().fit(np.concatenate((X_train, X_val)))\n",
    "X_train = transformer.transform(X_train)\n",
    "X_val = transformer.transform(X_val)\n",
    "X_test = transformer.transform(X_test)\n",
    "### END SOLUTION ###\n",
    "\n",
    "\n",
    "# Train a linear regression model on the training and validation set combined. \n",
    "# Calculate the error on the training set and the test set.\n",
    "\n",
    "### BEGIN SOLUTION ###\n",
    "# train model\n",
    "lr = LinearRegression().fit(np.concatenate((X_train, X_val)), np.concatenate((y_train, y_val)))\n",
    "# predict\n",
    "prediction_train = lr.predict(X_train)\n",
    "prediction_val = lr.predict(X_val)\n",
    "prediction_test = lr.predict(X_test)\n",
    "# calculate rmse\n",
    "RMSE_train_lr = mean_squared_error(y_train, prediction_train)**0.5\n",
    "RMSE_val_lr = mean_squared_error(y_val, prediction_val)**0.5\n",
    "RMSE_test_lr = mean_squared_error(y_test, prediction_test)**0.5\n",
    "print('Normalized: \\nRMSE train: {} \\nRMSE val: {} \\nRMSE test: {} \\n'.format(RMSE_train_lr, RMSE_val_lr, RMSE_test_lr))\n",
    "### END SOLUTION ###\n",
    "\n",
    "\n",
    "# Train a regularized model (use Ridge regularization). To decide the parameter alpha, use a range of values to train,\n",
    "# the model. Test its performance on the validation set. Output the RMSE for different values of alpha, and choose the\n",
    "# best value.\n",
    "\n",
    "### BEGIN SOLUTION ###\n",
    "def train_ridge(alpha):\n",
    "    # train model\n",
    "    lr = Ridge(alpha=alpha).fit(X_train, y_train)\n",
    "    # predict\n",
    "    prediction_train = lr.predict(X_train)\n",
    "    prediction_val = lr.predict(X_val)\n",
    "    # calculate rmse\n",
    "    RMSE_train = mean_squared_error(y_train, prediction_train)**0.5\n",
    "    RMSE_val = mean_squared_error(y_val, prediction_val)**0.5\n",
    "#     RMSE_test = mean_squared_error(y_test, prediction_test)**0.5\n",
    "    print('Ridge regression with alpha = {}: \\nRMSE train: {} \\nRMSE val: {} \\n'.format(alpha, RMSE_train, RMSE_val))\n",
    "    return {'RMSE_train': RMSE_train, 'RMSE_val': RMSE_val}\n",
    "\n",
    "for alpha in [0.0, 1e-15, 1e-8, 0.00001, 0.0001, 0.001, 0.01, 0.05, 0.1, 1.0, 10.0]:\n",
    "    train_ridge(alpha)\n",
    "print(\"The RMSE on the test set is the best for alpha = 1e-8 \\n\")\n",
    "### END SOLUTION ###\n",
    "\n",
    "\n",
    "\n",
    "# Train the regularized model (use Ridge regularization) with the best alpha parameter found above on the traing and \n",
    "# validation set combined.\n",
    "\n",
    "### BEGIN SOLUTION ###\n",
    "# train model with alpha = 0.1\n",
    "lr = Ridge(alpha=1e-8).fit(X_train, y_train)\n",
    "\n",
    "### END SOLUTION ###\n",
    "\n",
    "\n",
    "# Compare the performance of the linear regression with and without regularization\n",
    "# predict\n",
    "prediction_train = lr.predict(X_train)\n",
    "prediction_val = lr.predict(X_val)\n",
    "prediction_test = lr.predict(X_test)\n",
    "# calculate rmse\n",
    "RMSE_train = mean_squared_error(y_train, prediction_train)**0.5\n",
    "RMSE_val = mean_squared_error(y_val, prediction_val)**0.5\n",
    "RMSE_test = mean_squared_error(y_test, prediction_test)**0.5\n",
    "print(\"\"\"RMSE train with regularization: {} vs. without regularization: {} \\nRMSE val with regularization: {} vs. without regularization: {} \\nRMSE test with regularization: {} vs. without regularization: {} \\n\"\"\"\n",
    "      .format(RMSE_train, RMSE_train_lr, RMSE_val, RMSE_val_lr, RMSE_test, RMSE_test_lr))\n"
   ]
  },
  {
   "cell_type": "markdown",
   "metadata": {
    "colab_type": "text",
    "id": "23xaVneOdZrC",
    "nbgrader": {
     "grade": false,
     "grade_id": "cell-a93fd8e5829ee29a",
     "locked": true,
     "schema_version": 1,
     "solution": false
    }
   },
   "source": [
    "### Question 6f:\n",
    "What are your conclusions for the two models compared? Which model should you choose over the two? Is hyperparameter tuning useful in this case?"
   ]
  },
  {
   "cell_type": "markdown",
   "metadata": {
    "colab_type": "text",
    "id": "X_L6IfD2dZrC",
    "nbgrader": {
     "grade": true,
     "grade_id": "cell-5d199066f44b9fd5",
     "locked": false,
     "points": 0.5,
     "schema_version": 1,
     "solution": true
    }
   },
   "source": [
    "<span style=\"color:blue\">**After hyperparameter tuning we managed for the ridge regression model to approach the RMSE values for the linear regression model. However the linear model often beats the ridge regression model in this case, and most of the time the two RMSE values are very close bound. In this case we would choose the linear regression model, since most of the times it outperforms the ridge regression model. We have ran the two models many times with different alpha-values for ridge regression, which lead us to choose the alpha-value of 1e-8. Even though this alpha usually seems to score the best for ridge regression, most of the time linear regression outperforms the model.**</span>"
   ]
  }
 ],
 "metadata": {
  "celltoolbar": "Create Assignment",
  "colab": {
   "default_view": {},
   "name": "Practical Assignment 1.ipynb",
   "provenance": [],
   "version": "0.3.2",
   "views": {}
  },
  "kernelspec": {
   "display_name": "Python 3",
   "language": "python",
   "name": "python3"
  },
  "language_info": {
   "codemirror_mode": {
    "name": "ipython",
    "version": 3
   },
   "file_extension": ".py",
   "mimetype": "text/x-python",
   "name": "python",
   "nbconvert_exporter": "python",
   "pygments_lexer": "ipython3",
   "version": "3.7.4"
  },
  "pycharm": {
   "stem_cell": {
    "cell_type": "raw",
    "metadata": {
     "collapsed": false
    },
    "source": []
   }
  }
 },
 "nbformat": 4,
 "nbformat_minor": 4
}
